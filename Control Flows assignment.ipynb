{
 "cells": [
  {
   "cell_type": "markdown",
   "metadata": {},
   "source": [
    "Basic If-Else Statements:"
   ]
  },
  {
   "cell_type": "markdown",
   "metadata": {},
   "source": [
    "1. Write a Python program to check if a given number is positive or negative."
   ]
  },
  {
   "cell_type": "code",
   "execution_count": 5,
   "metadata": {},
   "outputs": [
    {
     "name": "stdout",
     "output_type": "stream",
     "text": [
      "4\n"
     ]
    },
    {
     "data": {
      "text/plain": [
       "'Positive number'"
      ]
     },
     "execution_count": 5,
     "metadata": {},
     "output_type": "execute_result"
    }
   ],
   "source": [
    "n=int(input())\n",
    "('Positive number' if n>=0 else 'Negative number')"
   ]
  },
  {
   "cell_type": "markdown",
   "metadata": {},
   "source": [
    "2. Create a program that determines if a person is eligible to vote based on their age."
   ]
  },
  {
   "cell_type": "code",
   "execution_count": 8,
   "metadata": {},
   "outputs": [
    {
     "data": {
      "text/plain": [
       "'Person is eligible for vote.'"
      ]
     },
     "execution_count": 8,
     "metadata": {},
     "output_type": "execute_result"
    }
   ],
   "source": [
    "def isPersonEligible(age):\n",
    "    if age<18:\n",
    "        return('Person not eligible for vote.')\n",
    "    else:\n",
    "        return('Person is eligible for vote.')\n",
    "isPersonEligible(18)"
   ]
  },
  {
   "cell_type": "markdown",
   "metadata": {},
   "source": [
    "3. Develop a program to find the maximum of two numbers using if-else statements."
   ]
  },
  {
   "cell_type": "code",
   "execution_count": 29,
   "metadata": {},
   "outputs": [
    {
     "name": "stdout",
     "output_type": "stream",
     "text": [
      "90 35\n",
      "num1: 90 is grater than num2: 35\n"
     ]
    }
   ],
   "source": [
    "num1,num2=list(map(int,input().split()))[:2]\n",
    "if num1>num2:\n",
    "    print(f'num1: {num1} is grater than num2: {num2}')\n",
    "elif num1<num2:\n",
    "    print(f'num2: {num2} is grater than num1: {num1}')\n",
    "else:\n",
    "    print(f'num1 and num2 are eual.')"
   ]
  },
  {
   "cell_type": "markdown",
   "metadata": {},
   "source": [
    "4. Write a Python script to classify a given year as a leap year or not."
   ]
  },
  {
   "cell_type": "code",
   "execution_count": 3,
   "metadata": {},
   "outputs": [
    {
     "name": "stdout",
     "output_type": "stream",
     "text": [
      "2016\n"
     ]
    },
    {
     "data": {
      "text/plain": [
       "'2016 is a leap year.'"
      ]
     },
     "execution_count": 3,
     "metadata": {},
     "output_type": "execute_result"
    }
   ],
   "source": [
    "def isleap(year):\n",
    "    if year%4==0:\n",
    "        return(f'{year} is a leap year.')\n",
    "    else:\n",
    "        return(f'{year} is not a leap year.')\n",
    "isleap(int(input()))"
   ]
  },
  {
   "cell_type": "markdown",
   "metadata": {},
   "source": [
    "5. Create a program that checks whether a character is a vowel or a consonant."
   ]
  },
  {
   "cell_type": "code",
   "execution_count": 35,
   "metadata": {},
   "outputs": [
    {
     "name": "stdout",
     "output_type": "stream",
     "text": [
      "Enter a charecter : U\n"
     ]
    },
    {
     "data": {
      "text/plain": [
       "\"'U' is a vowel.\""
      ]
     },
     "execution_count": 35,
     "metadata": {},
     "output_type": "execute_result"
    }
   ],
   "source": [
    "def isvowelORconsonent(char):\n",
    "    if char in ('aeiouAEIOU'):\n",
    "        return(f\"'{char}' is a vowel.\")\n",
    "    else:\n",
    "        return(f\"'{char}' is a consonant.\")\n",
    "isvowelORconsonent(input('Enter a charecter : '))"
   ]
  },
  {
   "cell_type": "markdown",
   "metadata": {},
   "source": [
    "6. Implement a program to determine whether a given number is even or odd."
   ]
  },
  {
   "cell_type": "code",
   "execution_count": 36,
   "metadata": {},
   "outputs": [
    {
     "name": "stdout",
     "output_type": "stream",
     "text": [
      "Enetr a number : 5\n"
     ]
    },
    {
     "data": {
      "text/plain": [
       "'5 is odd.'"
      ]
     },
     "execution_count": 36,
     "metadata": {},
     "output_type": "execute_result"
    }
   ],
   "source": [
    "def isevenORodd(num):\n",
    "    if num%2==0:\n",
    "        return(f'{num} is even number.')\n",
    "    else:\n",
    "        return(f'{num} is odd number.')\n",
    "isevenORodd(int(input('Enetr a number : ')))"
   ]
  },
  {
   "cell_type": "markdown",
   "metadata": {},
   "source": [
    "7. Write a Python function to calculate the absolute value of a number without using the `abs()` function."
   ]
  },
  {
   "cell_type": "code",
   "execution_count": 39,
   "metadata": {},
   "outputs": [
    {
     "name": "stdout",
     "output_type": "stream",
     "text": [
      "Enter a number: -938\n",
      "The absolute value of -938.0 is 938.0\n"
     ]
    }
   ],
   "source": [
    "def absolute_value(num):\n",
    "    if num < 0:\n",
    "        return -num\n",
    "    else:\n",
    "        return num\n",
    "\n",
    "# Test the absolute_value function\n",
    "number = float(input(\"Enter a number: \"))\n",
    "result = absolute_value(number)\n",
    "print(f\"The absolute value of {number} is {result}\")\n"
   ]
  },
  {
   "cell_type": "markdown",
   "metadata": {},
   "source": [
    "8. Develop a program that determines the largest of three given numbers using if-else statements."
   ]
  },
  {
   "cell_type": "code",
   "execution_count": 46,
   "metadata": {},
   "outputs": [
    {
     "name": "stdout",
     "output_type": "stream",
     "text": [
      "Enter the first number: 1\n",
      "Enter the second number: 2\n",
      "Enter the third number: 3\n",
      "The largest number among 1.0, 2.0, and 3.0 is: 3.0\n"
     ]
    }
   ],
   "source": [
    "def find_largest_number(num1, num2, num3):\n",
    "    if num1 >= num2 and num1 >= num3:\n",
    "        return num1\n",
    "    elif num2 >= num1 and num2 >= num3:\n",
    "        return num2\n",
    "    else:\n",
    "        return num3\n",
    "\n",
    "# Take input from the user for three numbers\n",
    "number1 = float(input(\"Enter the first number: \"))\n",
    "number2 = float(input(\"Enter the second number: \"))\n",
    "number3 = float(input(\"Enter the third number: \"))\n",
    "\n",
    "# Call the function to find the largest number among the three\n",
    "largest_number = find_largest_number(number1, number2, number3)\n",
    "\n",
    "print(f\"The largest number among {number1}, {number2}, and {number3} is: {largest_number}\")\n"
   ]
  },
  {
   "cell_type": "markdown",
   "metadata": {},
   "source": [
    "9. Create a program that checks if a given string is a palindrome."
   ]
  },
  {
   "cell_type": "code",
   "execution_count": 47,
   "metadata": {},
   "outputs": [
    {
     "name": "stdout",
     "output_type": "stream",
     "text": [
      "Enter a string : hello\n"
     ]
    },
    {
     "data": {
      "text/plain": [
       "'hello is not a palindrome.'"
      ]
     },
     "execution_count": 47,
     "metadata": {},
     "output_type": "execute_result"
    }
   ],
   "source": [
    "def ispalindrome(string):\n",
    "    if string[::-1]==string:\n",
    "        return(f'{string} is palindrome.')\n",
    "    else:\n",
    "        return(f'{string} is not a palindrome.')\n",
    "ispalindrome(input('Enter a string : '))"
   ]
  },
  {
   "cell_type": "markdown",
   "metadata": {},
   "source": [
    "10. Write a Python program to calculate the grade based on a student's score."
   ]
  },
  {
   "cell_type": "code",
   "execution_count": 48,
   "metadata": {},
   "outputs": [
    {
     "name": "stdout",
     "output_type": "stream",
     "text": [
      "Enter score : 71\n"
     ]
    },
    {
     "data": {
      "text/plain": [
       "'Grade B'"
      ]
     },
     "execution_count": 48,
     "metadata": {},
     "output_type": "execute_result"
    }
   ],
   "source": [
    "def calculateGrade(score):\n",
    "    if score>=90:\n",
    "        return('Grade A')\n",
    "    elif score<=89 and score>70:\n",
    "        return('Grade B')\n",
    "    elif score<=70 and score>50:\n",
    "        return('Grade C')\n",
    "    else:\n",
    "        return('Grade F')\n",
    "calculateGrade(int(input('Enter score : ')))"
   ]
  },
  {
   "cell_type": "markdown",
   "metadata": {},
   "source": [
    "Nested If-Else Statements:"
   ]
  },
  {
   "cell_type": "markdown",
   "metadata": {},
   "source": [
    "11. Write a program to find the largest among three numbers using nested if-else statements."
   ]
  },
  {
   "cell_type": "code",
   "execution_count": 36,
   "metadata": {},
   "outputs": [
    {
     "name": "stdout",
     "output_type": "stream",
     "text": [
      "68 64 67\n",
      "68 is largest number\n"
     ]
    }
   ],
   "source": [
    "num1,num2,num3=list(map(int,input().split()))[:3]\n",
    "if num1>=num2:\n",
    "    if num1>=num3:\n",
    "        print(f'{num1} is largest number')\n",
    "    else:\n",
    "        print(f'{num3} is largest number')\n",
    "elif num2>=num1:\n",
    "    if num2>=num3:\n",
    "        print(f'{num2} is largest number')\n",
    "    else:\n",
    "        print(f'{num3} is largest number')\n",
    "    \n"
   ]
  },
  {
   "cell_type": "markdown",
   "metadata": {},
   "source": [
    "12. Implement a program to determine if a triangle is equilateral, isosceles, or scalene."
   ]
  },
  {
   "cell_type": "code",
   "execution_count": 37,
   "metadata": {},
   "outputs": [
    {
     "data": {
      "text/plain": [
       "'scalen'"
      ]
     },
     "execution_count": 37,
     "metadata": {},
     "output_type": "execute_result"
    }
   ],
   "source": [
    "def typeoftriangle(s1,s2,s3):\n",
    "    if s1==s2==s3:\n",
    "        return('equilateral')\n",
    "    elif s1==s2!=s3 or s1!=s2==s3 or s1==s3!=s2:\n",
    "        return('isosceles')\n",
    "    else:\n",
    "        return('scalen')\n",
    "typeoftriangle(1,2,3)"
   ]
  },
  {
   "cell_type": "markdown",
   "metadata": {},
   "source": [
    "13. Develop a program that checks if a year is a leap year and also if it is a century year."
   ]
  },
  {
   "cell_type": "code",
   "execution_count": 4,
   "metadata": {},
   "outputs": [
    {
     "name": "stdout",
     "output_type": "stream",
     "text": [
      "2016\n"
     ]
    },
    {
     "data": {
      "text/plain": [
       "'2016 is a leap yea but not a century year.'"
      ]
     },
     "execution_count": 4,
     "metadata": {},
     "output_type": "execute_result"
    }
   ],
   "source": [
    "def isleap(year):\n",
    "    if year%4==0:\n",
    "        if year%10==0:\n",
    "            return(f'{year} is a leap and a century year.')\n",
    "        else:\n",
    "            return(f'{year} is a leap yea but not a century year.')\n",
    "    else:\n",
    "        return(f'{year} is not a leap year.')\n",
    "isleap(int(input()))"
   ]
  },
  {
   "cell_type": "markdown",
   "metadata": {},
   "source": [
    "14. Write a Python script to determine if a number is positive, negative, or zero."
   ]
  },
  {
   "cell_type": "code",
   "execution_count": 10,
   "metadata": {},
   "outputs": [
    {
     "name": "stdout",
     "output_type": "stream",
     "text": [
      "Enter a number : 0.000\n"
     ]
    },
    {
     "data": {
      "text/plain": [
       "'0.0 is zero.'"
      ]
     },
     "execution_count": 10,
     "metadata": {},
     "output_type": "execute_result"
    }
   ],
   "source": [
    "def typeofnum(num):\n",
    "    if num<0:\n",
    "        return (f'{num} is a negative number.')\n",
    "    elif num>0:\n",
    "        return (f'{num} is a positive number.')\n",
    "    else:\n",
    "        return(f'{num} is zero.')\n",
    "typeofnum(float(input('Enter a number : ')))"
   ]
  },
  {
   "cell_type": "markdown",
   "metadata": {},
   "source": [
    "15. Create a program to check if a person is a teenager (between 13 and 19 years old)."
   ]
  },
  {
   "cell_type": "code",
   "execution_count": 12,
   "metadata": {},
   "outputs": [
    {
     "name": "stdout",
     "output_type": "stream",
     "text": [
      "Enter age : 12\n"
     ]
    },
    {
     "data": {
      "text/plain": [
       "'Person is not a teenager.'"
      ]
     },
     "execution_count": 12,
     "metadata": {},
     "output_type": "execute_result"
    }
   ],
   "source": [
    "def isteenager(age):\n",
    "    if age>13 and age<19:\n",
    "        return(f'Person is a teenager with age {age} years.')\n",
    "    else:\n",
    "        return('Person is not a teenager.')\n",
    "isteenager(int(input('Enter age : ')))"
   ]
  },
  {
   "cell_type": "markdown",
   "metadata": {},
   "source": [
    "16. Develop a program that determines the type of angle based on its measure (acute, obtuse, or right)."
   ]
  },
  {
   "cell_type": "code",
   "execution_count": 13,
   "metadata": {},
   "outputs": [
    {
     "name": "stdout",
     "output_type": "stream",
     "text": [
      "Enter angle : 45\n"
     ]
    },
    {
     "data": {
      "text/plain": [
       "'Acute angle'"
      ]
     },
     "execution_count": 13,
     "metadata": {},
     "output_type": "execute_result"
    }
   ],
   "source": [
    "def typeofangle(angle):\n",
    "    if angle<90:\n",
    "        return('Acute angle')\n",
    "    elif angle>90:\n",
    "        return('Obtuse angle')\n",
    "    else:\n",
    "        return('Right angle')\n",
    "typeofangle(float(input('Enter angle : ')))"
   ]
  },
  {
   "cell_type": "markdown",
   "metadata": {},
   "source": [
    "17. Write a Python program to calculate the roots of a quadratic equation."
   ]
  },
  {
   "cell_type": "code",
   "execution_count": null,
   "metadata": {},
   "outputs": [],
   "source": [
    "import cmath\n",
    "\n",
    "def calculate_roots(a, b, c):\n",
    "    # Calculate the discriminant\n",
    "    discriminant = (b ** 2) - (4 * a * c)\n",
    "\n",
    "    # Calculate the roots\n",
    "    root1 = (-b + cmath.sqrt(discriminant)) / (2 * a)\n",
    "    root2 = (-b - cmath.sqrt(discriminant)) / (2 * a)\n",
    "\n",
    "    return root1, root2\n",
    "\n",
    "# Input coefficients of the quadratic equation\n",
    "a = float(input(\"Enter coefficient a: \"))\n",
    "b = float(input(\"Enter coefficient b: \"))\n",
    "c = float(input(\"Enter coefficient c: \"))\n",
    "\n",
    "# Calculate and display the roots\n",
    "root1, root2 = calculate_roots(a, b, c)\n",
    "print(f\"The roots of the equation are: {root1} and {root2}\")\n",
    "\n",
    "    "
   ]
  },
  {
   "cell_type": "markdown",
   "metadata": {},
   "source": [
    "18. Implement a program to determine the day of the week based on a user-provided number (1 for Monday, 2 for Tuesday, etc.)."
   ]
  },
  {
   "cell_type": "code",
   "execution_count": 15,
   "metadata": {},
   "outputs": [
    {
     "name": "stdout",
     "output_type": "stream",
     "text": [
      "Enter a number : 5\n"
     ]
    },
    {
     "data": {
      "text/plain": [
       "'friday'"
      ]
     },
     "execution_count": 15,
     "metadata": {},
     "output_type": "execute_result"
    }
   ],
   "source": [
    "def dayoftheweek(number):\n",
    "    days=['Monday','Tuesday','wednesday','thursday','friday','saturday','sunday']\n",
    "    if number>=1 and number<=7:\n",
    "        return(days[number-1])\n",
    "    else:\n",
    "        return('Invalid input')\n",
    "dayoftheweek(int(input('Enter a number : ')))"
   ]
  },
  {
   "cell_type": "markdown",
   "metadata": {},
   "source": [
    "19. Create a program that determines if a year is a leap year and also if it is evenly divisible by 400."
   ]
  },
  {
   "cell_type": "code",
   "execution_count": 16,
   "metadata": {},
   "outputs": [
    {
     "name": "stdout",
     "output_type": "stream",
     "text": [
      "Enter Year : 2000\n"
     ]
    },
    {
     "data": {
      "text/plain": [
       "'year 2000 is a leap year and evenly divisible by 400.'"
      ]
     },
     "execution_count": 16,
     "metadata": {},
     "output_type": "execute_result"
    }
   ],
   "source": [
    "def isleap(year):\n",
    "    if year%4==0 and year%400==0:\n",
    "        return(f'year {year} is a leap year and evenly divisible by 400.')\n",
    "    else:\n",
    "        return(f'year {year} is not evenly divisible by 400.')\n",
    "isleap(int(input('Enter Year : ')))"
   ]
  },
  {
   "cell_type": "markdown",
   "metadata": {},
   "source": [
    "20. Develop a program that checks if a given number is prime or not using nested if-else statements Elif Statements:"
   ]
  },
  {
   "cell_type": "code",
   "execution_count": 23,
   "metadata": {},
   "outputs": [
    {
     "name": "stdout",
     "output_type": "stream",
     "text": [
      "Enter a number : 123\n"
     ]
    },
    {
     "data": {
      "text/plain": [
       "'123 is not a prime number.'"
      ]
     },
     "execution_count": 23,
     "metadata": {},
     "output_type": "execute_result"
    }
   ],
   "source": [
    "def isprime(num):\n",
    "    for i in range(2,num//2):\n",
    "        if num%i==0:\n",
    "            return(f'{num} is not a prime number.')\n",
    "    else:\n",
    "        return(f'{num} is a prime number.')\n",
    "isprime(int(input('Enter a number : ')))"
   ]
  },
  {
   "cell_type": "markdown",
   "metadata": {},
   "source": [
    "21. Write a Python program to assign grades based on different ranges of scores using elif statements."
   ]
  },
  {
   "cell_type": "code",
   "execution_count": 1,
   "metadata": {},
   "outputs": [
    {
     "name": "stdout",
     "output_type": "stream",
     "text": [
      "For a score of 92, the grade is A\n",
      "For a score of 85, the grade is B\n",
      "For a score of 73, the grade is C\n",
      "For a score of 65, the grade is D\n",
      "For a score of 55, the grade is E\n",
      "For a score of 45, the grade is F\n"
     ]
    }
   ],
   "source": [
    "def assign_grade(score):\n",
    "    if score >= 90:\n",
    "        return 'A'\n",
    "    elif score >= 80:\n",
    "        return 'B'\n",
    "    elif score >= 70:\n",
    "        return 'C'\n",
    "    elif score >= 60:\n",
    "        return 'D'\n",
    "    elif score >= 50:\n",
    "        return 'E'\n",
    "    else:\n",
    "        return 'F'\n",
    "\n",
    "# Example scores to test the function\n",
    "scores = [92, 85, 73, 65, 55, 45]\n",
    "\n",
    "# Assign grades for each score and display the result\n",
    "for score in scores:\n",
    "    grade = assign_grade(score)\n",
    "    print(f\"For a score of {score}, the grade is {grade}\")\n"
   ]
  },
  {
   "cell_type": "markdown",
   "metadata": {},
   "source": [
    "22. Implement a program to determine the type of a triangle based on its angles."
   ]
  },
  {
   "cell_type": "code",
   "execution_count": 2,
   "metadata": {},
   "outputs": [
    {
     "name": "stdout",
     "output_type": "stream",
     "text": [
      "Enter first angle of the triangle: 46\n",
      "Enter second angle of the triangle: 53\n",
      "Enter third angle of the triangle: 35\n",
      "The triangle is a Invalid triangle.\n"
     ]
    }
   ],
   "source": [
    "def triangle_type(angle1, angle2, angle3):\n",
    "    # Calculate the sum of angles\n",
    "    sum_of_angles = angle1 + angle2 + angle3\n",
    "\n",
    "    # Check if it's a valid triangle (sum of angles should be 180 degrees)\n",
    "    if sum_of_angles != 180 or angle1 <= 0 or angle2 <= 0 or angle3 <= 0:\n",
    "        return \"Invalid triangle\"\n",
    "\n",
    "    # Check for right-angled triangle\n",
    "    if angle1 == 90 or angle2 == 90 or angle3 == 90:\n",
    "        return \"Right-angled triangle\"\n",
    "\n",
    "    # Check for obtuse-angled triangle\n",
    "    if angle1 > 90 or angle2 > 90 or angle3 > 90:\n",
    "        return \"Obtuse-angled triangle\"\n",
    "\n",
    "    # If it's not a right or obtuse-angled triangle, it's acute-angled\n",
    "    return \"Acute-angled triangle\"\n",
    "\n",
    "# Input angles of the triangle\n",
    "angle1 = float(input(\"Enter first angle of the triangle: \"))\n",
    "angle2 = float(input(\"Enter second angle of the triangle: \"))\n",
    "angle3 = float(input(\"Enter third angle of the triangle: \"))\n",
    "\n",
    "# Determine the type of triangle and display the result\n",
    "triangle = triangle_type(angle1, angle2, angle3)\n",
    "print(f\"The triangle is a {triangle}.\")\n"
   ]
  },
  {
   "cell_type": "markdown",
   "metadata": {},
   "source": [
    "23. Develop a program to categorize a given person's BMI into underweight, normal, overweight, or obese using elif statements."
   ]
  },
  {
   "cell_type": "code",
   "execution_count": 3,
   "metadata": {},
   "outputs": [
    {
     "name": "stdout",
     "output_type": "stream",
     "text": [
      "Enter weight in kilograms: 62\n",
      "Enter height in meters: 4\n",
      "The BMI is 3.88, which falls under the category: Underweight\n"
     ]
    }
   ],
   "source": [
    "def calculate_bmi(weight_kg, height_m):\n",
    "    # Calculate BMI\n",
    "    bmi = weight_kg / (height_m ** 2)\n",
    "    return bmi\n",
    "\n",
    "def categorize_bmi(bmi):\n",
    "    # Categorize BMI\n",
    "    if bmi < 18.5:\n",
    "        return \"Underweight\"\n",
    "    elif 18.5 <= bmi < 25:\n",
    "        return \"Normal weight\"\n",
    "    elif 25 <= bmi < 30:\n",
    "        return \"Overweight\"\n",
    "    else:\n",
    "        return \"Obese\"\n",
    "\n",
    "# Input weight and height to calculate BMI\n",
    "weight = float(input(\"Enter weight in kilograms: \"))\n",
    "height = float(input(\"Enter height in meters: \"))\n",
    "\n",
    "# Calculate BMI\n",
    "calculated_bmi = calculate_bmi(weight, height)\n",
    "\n",
    "# Categorize BMI and display the result\n",
    "category = categorize_bmi(calculated_bmi)\n",
    "print(f\"The BMI is {calculated_bmi:.2f}, which falls under the category: {category}\")\n"
   ]
  },
  {
   "cell_type": "markdown",
   "metadata": {},
   "source": [
    "24. Create a program that determines whether a given number is positive, negative, or zero using elif statements."
   ]
  },
  {
   "cell_type": "code",
   "execution_count": 4,
   "metadata": {},
   "outputs": [
    {
     "name": "stdout",
     "output_type": "stream",
     "text": [
      "Enter a number: 345\n",
      "The number is Positive.\n"
     ]
    }
   ],
   "source": [
    "def check_number(number):\n",
    "    if number > 0:\n",
    "        return \"Positive\"\n",
    "    elif number < 0:\n",
    "        return \"Negative\"\n",
    "    else:\n",
    "        return \"Zero\"\n",
    "\n",
    "# Input the number to check its sign\n",
    "num = float(input(\"Enter a number: \"))\n",
    "\n",
    "# Determine and display whether the number is positive, negative, or zero\n",
    "result = check_number(num)\n",
    "print(f\"The number is {result}.\")\n"
   ]
  },
  {
   "cell_type": "markdown",
   "metadata": {},
   "source": [
    "25. Write a Python script to determine the type of a character (uppercase, lowercase, or special) using elif statements."
   ]
  },
  {
   "cell_type": "code",
   "execution_count": 5,
   "metadata": {},
   "outputs": [
    {
     "name": "stdout",
     "output_type": "stream",
     "text": [
      "Enter a character: f\n",
      "The entered character is Lowercase.\n"
     ]
    }
   ],
   "source": [
    "def check_character_type(char):\n",
    "    if char.isupper():\n",
    "        return \"Uppercase\"\n",
    "    elif char.islower():\n",
    "        return \"Lowercase\"\n",
    "    elif not char.isalpha() and not char.isdigit():\n",
    "        return \"Special character\"\n",
    "    else:\n",
    "        return \"Other\"\n",
    "\n",
    "# Input a character to determine its type\n",
    "input_char = input(\"Enter a character: \")\n",
    "\n",
    "# Check the type of the character and display the result\n",
    "character_type = check_character_type(input_char)\n",
    "\n",
    "if character_type == \"Other\":\n",
    "    print(\"The entered character is either a digit or not an alphabet character.\")\n",
    "else:\n",
    "    print(f\"The entered character is {character_type}.\")\n"
   ]
  },
  {
   "cell_type": "markdown",
   "metadata": {},
   "source": [
    "26. Implement a program to calculate the discounted price based on different purchase amounts using elif statements."
   ]
  },
  {
   "cell_type": "code",
   "execution_count": 6,
   "metadata": {},
   "outputs": [
    {
     "name": "stdout",
     "output_type": "stream",
     "text": [
      "Enter the purchase amount: 234\n",
      "The discounted price for a purchase of 234.0 is: 234.00\n"
     ]
    }
   ],
   "source": [
    "def calculate_discounted_price(amount):\n",
    "    if amount < 1000:\n",
    "        discount = 0\n",
    "    elif 1000 <= amount < 2000:\n",
    "        discount = 0.1  # 10% discount for amounts between 1000 and 2000\n",
    "    elif 2000 <= amount < 5000:\n",
    "        discount = 0.2  # 20% discount for amounts between 2000 and 5000\n",
    "    else:\n",
    "        discount = 0.3  # 30% discount for amounts equal to or above 5000\n",
    "\n",
    "    discounted_price = amount - (amount * discount)\n",
    "    return discounted_price\n",
    "\n",
    "# Input the purchase amount to calculate the discounted price\n",
    "purchase_amount = float(input(\"Enter the purchase amount: \"))\n",
    "\n",
    "# Calculate and display the discounted price\n",
    "discounted_price = calculate_discounted_price(purchase_amount)\n",
    "print(f\"The discounted price for a purchase of {purchase_amount} is: {discounted_price:.2f}\")\n"
   ]
  },
  {
   "cell_type": "markdown",
   "metadata": {},
   "source": [
    "27. Develop a program to calculate the electricity bill based on different consumption slabs using elif statements."
   ]
  },
  {
   "cell_type": "code",
   "execution_count": 7,
   "metadata": {},
   "outputs": [
    {
     "name": "stdout",
     "output_type": "stream",
     "text": [
      "Enter the units consumed: 1234\n",
      "The electricity bill for 1234 units is: 1696.00\n"
     ]
    }
   ],
   "source": [
    "def calculate_electricity_bill(units):\n",
    "    if units <= 50:\n",
    "        bill = units * 0.50  # Rate for the first 50 units\n",
    "    elif 51 <= units <= 150:\n",
    "        bill = 25 + (units - 50) * 0.75  # 25 is the fixed charge for the first 50 units\n",
    "    elif 151 <= units <= 250:\n",
    "        bill = 100 + (units - 150) * 1.20  # 100 is the charge for the first 150 units\n",
    "    else:\n",
    "        bill = 220 + (units - 250) * 1.50  # 220 is the charge for the first 250 units\n",
    "\n",
    "    return bill\n",
    "\n",
    "# Input the units consumed to calculate the electricity bill\n",
    "consumed_units = int(input(\"Enter the units consumed: \"))\n",
    "\n",
    "# Calculate and display the electricity bill\n",
    "total_bill = calculate_electricity_bill(consumed_units)\n",
    "print(f\"The electricity bill for {consumed_units} units is: {total_bill:.2f}\")\n"
   ]
  },
  {
   "cell_type": "markdown",
   "metadata": {},
   "source": [
    "28. Create a program to determine the type of quadrilateral based on its angles and sides using elif statements."
   ]
  },
  {
   "cell_type": "code",
   "execution_count": 8,
   "metadata": {},
   "outputs": [
    {
     "name": "stdout",
     "output_type": "stream",
     "text": [
      "Enter length of side 1: 234\n",
      "Enter length of side 2: 234\n",
      "Enter length of side 3: 123\n",
      "Enter length of side 4: 123\n",
      "Enter measure of angle 1: 234\n",
      "Enter measure of angle 2: 34\n",
      "Enter measure of angle 3: 23\n",
      "Enter measure of angle 4: 234\n",
      "The given quadrilateral is a Parallelogram.\n"
     ]
    }
   ],
   "source": [
    "def determine_quadrilateral_type(sides, angles):\n",
    "    num_equal_sides = len(set(sides))  # Count the number of unique side lengths\n",
    "    num_right_angles = angles.count(90)  # Count the number of right angles\n",
    "\n",
    "    if num_equal_sides == 1 and num_right_angles == 4:\n",
    "        return \"Square\"  # All sides are equal, and all angles are right angles (Square)\n",
    "    elif num_equal_sides == 2 and num_right_angles == 4:\n",
    "        return \"Rectangle\"  # Opposite sides are equal, and all angles are right angles (Rectangle)\n",
    "    elif num_equal_sides == 1 and len(set(angles)) == 1:\n",
    "        return \"Rhombus\"  # All sides are equal, and all angles are equal (Rhombus)\n",
    "    elif num_equal_sides == 2:\n",
    "        return \"Parallelogram\"  # Opposite sides are equal (Parallelogram)\n",
    "    else:\n",
    "        return \"Quadrilateral\"  # General Quadrilateral\n",
    "\n",
    "# Input sides and angles of the quadrilateral\n",
    "side_lengths = [float(input(f\"Enter length of side {i+1}: \")) for i in range(4)]\n",
    "angles_measure = [float(input(f\"Enter measure of angle {i+1}: \")) for i in range(4)]\n",
    "\n",
    "# Determine and display the type of quadrilateral\n",
    "quadrilateral_type = determine_quadrilateral_type(side_lengths, angles_measure)\n",
    "print(f\"The given quadrilateral is a {quadrilateral_type}.\")\n"
   ]
  },
  {
   "cell_type": "markdown",
   "metadata": {},
   "source": [
    "29. Write a Python script to determine the season based on a user-provided month using elif statements."
   ]
  },
  {
   "cell_type": "code",
   "execution_count": 9,
   "metadata": {},
   "outputs": [
    {
     "name": "stdout",
     "output_type": "stream",
     "text": [
      "Enter the month (as a number from 1 to 12): 234\n",
      "The season for the entered month 234 is: Invalid month entered\n"
     ]
    }
   ],
   "source": [
    "def determine_season(month):\n",
    "    if month in [12, 1, 2]:\n",
    "        season = \"Winter\"\n",
    "    elif month in [3, 4, 5]:\n",
    "        season = \"Spring\"\n",
    "    elif month in [6, 7, 8]:\n",
    "        season = \"Summer\"\n",
    "    elif month in [9, 10, 11]:\n",
    "        season = \"Autumn\"\n",
    "    else:\n",
    "        season = \"Invalid month entered\"\n",
    "\n",
    "    return season\n",
    "\n",
    "# Input the month (as a number) to determine the season\n",
    "month_number = int(input(\"Enter the month (as a number from 1 to 12): \"))\n",
    "\n",
    "# Determine and display the season based on the provided month\n",
    "result_season = determine_season(month_number)\n",
    "print(f\"The season for the entered month {month_number} is: {result_season}\")\n"
   ]
  },
  {
   "cell_type": "markdown",
   "metadata": {},
   "source": [
    "30. Implement a program to determine the type of a year (leap or common) and month (30 or 31 days) using elif statements."
   ]
  },
  {
   "cell_type": "code",
   "execution_count": 10,
   "metadata": {},
   "outputs": [
    {
     "name": "stdout",
     "output_type": "stream",
     "text": [
      "Enter a year: 2000\n",
      "Enter a month (as a number from 1 to 12): 3\n",
      "The entered year 2000 is a Leap Year.\n",
      "The entered month 3 has 31 days.\n"
     ]
    }
   ],
   "source": [
    "def determine_year_type(year):\n",
    "    if (year % 4 == 0 and year % 100 != 0) or (year % 400 == 0):\n",
    "        return \"Leap Year\"\n",
    "    else:\n",
    "        return \"Common Year\"\n",
    "\n",
    "def determine_month_days(month):\n",
    "    if month in [4, 6, 9, 11]:\n",
    "        return 30\n",
    "    elif month == 2:\n",
    "        return \"28 or 29\"  # February can have 28 or 29 days in leap years\n",
    "    else:\n",
    "        return 31\n",
    "\n",
    "# Input the year and month to determine their types\n",
    "input_year = int(input(\"Enter a year: \"))\n",
    "input_month = int(input(\"Enter a month (as a number from 1 to 12): \"))\n",
    "\n",
    "# Determine and display the type of year and number of days in the month\n",
    "year_type = determine_year_type(input_year)\n",
    "month_days = determine_month_days(input_month)\n",
    "\n",
    "print(f\"The entered year {input_year} is a {year_type}.\")\n",
    "print(f\"The entered month {input_month} has {month_days} days.\")\n"
   ]
  },
  {
   "cell_type": "markdown",
   "metadata": {},
   "source": [
    "Basic Level:"
   ]
  },
  {
   "cell_type": "markdown",
   "metadata": {},
   "source": [
    "1. Write a Python program that checks if a given number is positive, negative, or zero."
   ]
  },
  {
   "cell_type": "code",
   "execution_count": 11,
   "metadata": {},
   "outputs": [
    {
     "name": "stdout",
     "output_type": "stream",
     "text": [
      "Enter a number: 2345t\n"
     ]
    },
    {
     "ename": "ValueError",
     "evalue": "could not convert string to float: '2345t'",
     "output_type": "error",
     "traceback": [
      "\u001b[1;31m---------------------------------------------------------------------------\u001b[0m",
      "\u001b[1;31mValueError\u001b[0m                                Traceback (most recent call last)",
      "\u001b[1;32m<ipython-input-11-25859f43178d>\u001b[0m in \u001b[0;36m<module>\u001b[1;34m\u001b[0m\n\u001b[0;32m      8\u001b[0m \u001b[1;33m\u001b[0m\u001b[0m\n\u001b[0;32m      9\u001b[0m \u001b[1;31m# Input the number to check its sign\u001b[0m\u001b[1;33m\u001b[0m\u001b[1;33m\u001b[0m\u001b[1;33m\u001b[0m\u001b[0m\n\u001b[1;32m---> 10\u001b[1;33m \u001b[0mnum\u001b[0m \u001b[1;33m=\u001b[0m \u001b[0mfloat\u001b[0m\u001b[1;33m(\u001b[0m\u001b[0minput\u001b[0m\u001b[1;33m(\u001b[0m\u001b[1;34m\"Enter a number: \"\u001b[0m\u001b[1;33m)\u001b[0m\u001b[1;33m)\u001b[0m\u001b[1;33m\u001b[0m\u001b[1;33m\u001b[0m\u001b[0m\n\u001b[0m\u001b[0;32m     11\u001b[0m \u001b[1;33m\u001b[0m\u001b[0m\n\u001b[0;32m     12\u001b[0m \u001b[1;31m# Determine and display whether the number is positive, negative, or zero\u001b[0m\u001b[1;33m\u001b[0m\u001b[1;33m\u001b[0m\u001b[1;33m\u001b[0m\u001b[0m\n",
      "\u001b[1;31mValueError\u001b[0m: could not convert string to float: '2345t'"
     ]
    }
   ],
   "source": [
    "def check_number(number):\n",
    "    if number > 0:\n",
    "        return \"Positive\"\n",
    "    elif number < 0:\n",
    "        return \"Negative\"\n",
    "    else:\n",
    "        return \"Zero\"\n",
    "\n",
    "# Input the number to check its sign\n",
    "num = float(input(\"Enter a number: \"))\n",
    "\n",
    "# Determine and display whether the number is positive, negative, or zero\n",
    "result = check_number(num)\n",
    "print(f\"The number is {result}.\")\n"
   ]
  },
  {
   "cell_type": "markdown",
   "metadata": {},
   "source": [
    "2. Create a program to determine if a person is eligible to vote based on their age."
   ]
  },
  {
   "cell_type": "code",
   "execution_count": 12,
   "metadata": {},
   "outputs": [
    {
     "name": "stdout",
     "output_type": "stream",
     "text": [
      "Enter your age: 1123\n",
      "You are eligible to vote.\n"
     ]
    }
   ],
   "source": [
    "def check_voting_eligibility(age):\n",
    "    if age >= 18:\n",
    "        return \"You are eligible to vote.\"\n",
    "    else:\n",
    "        return \"You are not eligible to vote yet.\"\n",
    "\n",
    "# Input the age to check voting eligibility\n",
    "person_age = int(input(\"Enter your age: \"))\n",
    "\n",
    "# Check and display voting eligibility based on age\n",
    "eligibility_status = check_voting_eligibility(person_age)\n",
    "print(eligibility_status)\n"
   ]
  },
  {
   "cell_type": "markdown",
   "metadata": {},
   "source": [
    "3. Write a program to find the maximum of two given numbers using conditional statements."
   ]
  },
  {
   "cell_type": "code",
   "execution_count": 13,
   "metadata": {},
   "outputs": [
    {
     "name": "stdout",
     "output_type": "stream",
     "text": [
      "Enter first number: 123\n",
      "Enter second number: 12\n",
      "The maximum of 123.0 and 12.0 is: 123.0\n"
     ]
    }
   ],
   "source": [
    "def find_maximum(num1, num2):\n",
    "    if num1 > num2:\n",
    "        return num1\n",
    "    else:\n",
    "        return num2\n",
    "\n",
    "# Input two numbers to find the maximum\n",
    "number1 = float(input(\"Enter first number: \"))\n",
    "number2 = float(input(\"Enter second number: \"))\n",
    "\n",
    "# Find and display the maximum of the two numbers\n",
    "maximum_number = find_maximum(number1, number2)\n",
    "print(f\"The maximum of {number1} and {number2} is: {maximum_number}\")\n"
   ]
  },
  {
   "cell_type": "markdown",
   "metadata": {},
   "source": [
    "4. Develop a program that calculates the grade of a student based on their exam score."
   ]
  },
  {
   "cell_type": "code",
   "execution_count": 14,
   "metadata": {},
   "outputs": [
    {
     "name": "stdout",
     "output_type": "stream",
     "text": [
      "Enter the exam score: `123\n"
     ]
    },
    {
     "ename": "ValueError",
     "evalue": "could not convert string to float: '`123'",
     "output_type": "error",
     "traceback": [
      "\u001b[1;31m---------------------------------------------------------------------------\u001b[0m",
      "\u001b[1;31mValueError\u001b[0m                                Traceback (most recent call last)",
      "\u001b[1;32m<ipython-input-14-f994c67293e6>\u001b[0m in \u001b[0;36m<module>\u001b[1;34m\u001b[0m\n\u001b[0;32m     13\u001b[0m \u001b[1;33m\u001b[0m\u001b[0m\n\u001b[0;32m     14\u001b[0m \u001b[1;31m# Input the exam score to calculate the grade\u001b[0m\u001b[1;33m\u001b[0m\u001b[1;33m\u001b[0m\u001b[1;33m\u001b[0m\u001b[0m\n\u001b[1;32m---> 15\u001b[1;33m \u001b[0mexam_score\u001b[0m \u001b[1;33m=\u001b[0m \u001b[0mfloat\u001b[0m\u001b[1;33m(\u001b[0m\u001b[0minput\u001b[0m\u001b[1;33m(\u001b[0m\u001b[1;34m\"Enter the exam score: \"\u001b[0m\u001b[1;33m)\u001b[0m\u001b[1;33m)\u001b[0m\u001b[1;33m\u001b[0m\u001b[1;33m\u001b[0m\u001b[0m\n\u001b[0m\u001b[0;32m     16\u001b[0m \u001b[1;33m\u001b[0m\u001b[0m\n\u001b[0;32m     17\u001b[0m \u001b[1;31m# Calculate and display the grade based on the exam score\u001b[0m\u001b[1;33m\u001b[0m\u001b[1;33m\u001b[0m\u001b[1;33m\u001b[0m\u001b[0m\n",
      "\u001b[1;31mValueError\u001b[0m: could not convert string to float: '`123'"
     ]
    }
   ],
   "source": [
    "def calculate_grade(score):\n",
    "    if score >= 90:\n",
    "        grade = 'A'\n",
    "    elif score >= 80:\n",
    "        grade = 'B'\n",
    "    elif score >= 70:\n",
    "        grade = 'C'\n",
    "    elif score >= 60:\n",
    "        grade = 'D'\n",
    "    else:\n",
    "        grade = 'F'\n",
    "    return grade\n",
    "\n",
    "# Input the exam score to calculate the grade\n",
    "exam_score = float(input(\"Enter the exam score: \"))\n",
    "\n",
    "# Calculate and display the grade based on the exam score\n",
    "student_grade = calculate_grade(exam_score)\n",
    "print(f\"The grade for the exam score {exam_score} is: {student_grade}\")\n"
   ]
  },
  {
   "cell_type": "markdown",
   "metadata": {},
   "source": [
    "5. Create a program that checks if a year is a leap year or not."
   ]
  },
  {
   "cell_type": "code",
   "execution_count": 15,
   "metadata": {},
   "outputs": [
    {
     "name": "stdout",
     "output_type": "stream",
     "text": [
      "Enter a year: 2000\n",
      "The year 2000 is a leap year.\n"
     ]
    }
   ],
   "source": [
    "def is_leap_year(year):\n",
    "    if (year % 4 == 0 and year % 100 != 0) or (year % 400 == 0):\n",
    "        return True\n",
    "    else:\n",
    "        return False\n",
    "\n",
    "# Input the year to check if it's a leap year\n",
    "input_year = int(input(\"Enter a year: \"))\n",
    "\n",
    "# Check and display if the entered year is a leap year or not\n",
    "if is_leap_year(input_year):\n",
    "    print(f\"The year {input_year} is a leap year.\")\n",
    "else:\n",
    "    print(f\"The year {input_year} is not a leap year.\")\n"
   ]
  },
  {
   "cell_type": "markdown",
   "metadata": {},
   "source": [
    "6. Write a program to classify a triangle based on its sides' lengths."
   ]
  },
  {
   "cell_type": "code",
   "execution_count": 16,
   "metadata": {},
   "outputs": [
    {
     "name": "stdout",
     "output_type": "stream",
     "text": [
      "Enter the length of side 1: 234\n",
      "Enter the length of side 2: 123\n",
      "Enter the length of side 3: 123\n",
      "The triangle with side lengths 234.0, 123.0, 123.0 is a(n): Isosceles Triangle\n"
     ]
    }
   ],
   "source": [
    "def classify_triangle(side1, side2, side3):\n",
    "    if side1 == side2 == side3:\n",
    "        return \"Equilateral Triangle\"\n",
    "    elif side1 == side2 or side1 == side3 or side2 == side3:\n",
    "        return \"Isosceles Triangle\"\n",
    "    else:\n",
    "        return \"Scalene Triangle\"\n",
    "\n",
    "# Input the lengths of the sides of the triangle\n",
    "length1 = float(input(\"Enter the length of side 1: \"))\n",
    "length2 = float(input(\"Enter the length of side 2: \"))\n",
    "length3 = float(input(\"Enter the length of side 3: \"))\n",
    "\n",
    "# Classify and display the type of triangle based on side lengths\n",
    "triangle_type = classify_triangle(length1, length2, length3)\n",
    "print(f\"The triangle with side lengths {length1}, {length2}, {length3} is a(n): {triangle_type}\")\n"
   ]
  },
  {
   "cell_type": "markdown",
   "metadata": {},
   "source": [
    "7. Build a program that determines the largest of three given numbers."
   ]
  },
  {
   "cell_type": "code",
   "execution_count": 17,
   "metadata": {},
   "outputs": [
    {
     "name": "stdout",
     "output_type": "stream",
     "text": [
      "Enter first number: 12\n",
      "Enter second number: 12\n",
      "Enter third number: `12\n"
     ]
    },
    {
     "ename": "ValueError",
     "evalue": "could not convert string to float: '`12'",
     "output_type": "error",
     "traceback": [
      "\u001b[1;31m---------------------------------------------------------------------------\u001b[0m",
      "\u001b[1;31mValueError\u001b[0m                                Traceback (most recent call last)",
      "\u001b[1;32m<ipython-input-17-126c073b9aa0>\u001b[0m in \u001b[0;36m<module>\u001b[1;34m\u001b[0m\n\u001b[0;32m     12\u001b[0m \u001b[0mnumber1\u001b[0m \u001b[1;33m=\u001b[0m \u001b[0mfloat\u001b[0m\u001b[1;33m(\u001b[0m\u001b[0minput\u001b[0m\u001b[1;33m(\u001b[0m\u001b[1;34m\"Enter first number: \"\u001b[0m\u001b[1;33m)\u001b[0m\u001b[1;33m)\u001b[0m\u001b[1;33m\u001b[0m\u001b[1;33m\u001b[0m\u001b[0m\n\u001b[0;32m     13\u001b[0m \u001b[0mnumber2\u001b[0m \u001b[1;33m=\u001b[0m \u001b[0mfloat\u001b[0m\u001b[1;33m(\u001b[0m\u001b[0minput\u001b[0m\u001b[1;33m(\u001b[0m\u001b[1;34m\"Enter second number: \"\u001b[0m\u001b[1;33m)\u001b[0m\u001b[1;33m)\u001b[0m\u001b[1;33m\u001b[0m\u001b[1;33m\u001b[0m\u001b[0m\n\u001b[1;32m---> 14\u001b[1;33m \u001b[0mnumber3\u001b[0m \u001b[1;33m=\u001b[0m \u001b[0mfloat\u001b[0m\u001b[1;33m(\u001b[0m\u001b[0minput\u001b[0m\u001b[1;33m(\u001b[0m\u001b[1;34m\"Enter third number: \"\u001b[0m\u001b[1;33m)\u001b[0m\u001b[1;33m)\u001b[0m\u001b[1;33m\u001b[0m\u001b[1;33m\u001b[0m\u001b[0m\n\u001b[0m\u001b[0;32m     15\u001b[0m \u001b[1;33m\u001b[0m\u001b[0m\n\u001b[0;32m     16\u001b[0m \u001b[1;31m# Find and display the largest of the three numbers\u001b[0m\u001b[1;33m\u001b[0m\u001b[1;33m\u001b[0m\u001b[1;33m\u001b[0m\u001b[0m\n",
      "\u001b[1;31mValueError\u001b[0m: could not convert string to float: '`12'"
     ]
    }
   ],
   "source": [
    "def find_largest(num1, num2, num3):\n",
    "    largest = num1\n",
    "\n",
    "    if num2 > largest:\n",
    "        largest = num2\n",
    "    if num3 > largest:\n",
    "        largest = num3\n",
    "\n",
    "    return largest\n",
    "\n",
    "# Input three numbers to find the largest\n",
    "number1 = float(input(\"Enter first number: \"))\n",
    "number2 = float(input(\"Enter second number: \"))\n",
    "number3 = float(input(\"Enter third number: \"))\n",
    "\n",
    "# Find and display the largest of the three numbers\n",
    "largest_number = find_largest(number1, number2, number3)\n",
    "print(f\"The largest of {number1}, {number2}, and {number3} is: {largest_number}\")\n"
   ]
  },
  {
   "cell_type": "markdown",
   "metadata": {},
   "source": [
    "8. Develop a program that checks whether a character is a vowel or a consonant."
   ]
  },
  {
   "cell_type": "code",
   "execution_count": 18,
   "metadata": {},
   "outputs": [
    {
     "name": "stdout",
     "output_type": "stream",
     "text": [
      "Enter a character: w\n",
      "The entered character 'w' is a: Consonant\n"
     ]
    }
   ],
   "source": [
    "def check_vowel_consonant(char):\n",
    "    vowels = \"AEIOUaeiou\"\n",
    "\n",
    "    if char.isalpha() and len(char) == 1:\n",
    "        if char in vowels:\n",
    "            return \"Vowel\"\n",
    "        else:\n",
    "            return \"Consonant\"\n",
    "    else:\n",
    "        return \"Not a single alphabet character\"\n",
    "\n",
    "# Input a character to check if it's a vowel or a consonant\n",
    "input_char = input(\"Enter a character: \")\n",
    "\n",
    "# Check and display whether the entered character is a vowel or a consonant\n",
    "result = check_vowel_consonant(input_char)\n",
    "print(f\"The entered character '{input_char}' is a: {result}\")\n"
   ]
  },
  {
   "cell_type": "markdown",
   "metadata": {},
   "source": [
    "9. Create a program to calculate the total cost of a shopping cart based on discounts."
   ]
  },
  {
   "cell_type": "code",
   "execution_count": 19,
   "metadata": {},
   "outputs": [
    {
     "name": "stdout",
     "output_type": "stream",
     "text": [
      "Enter the quantity of items: 12\n",
      "Enter the price per unit: 345\n",
      "The total cost of 12 items at 345.0 per unit is: 3726.00\n"
     ]
    }
   ],
   "source": [
    "def calculate_discounted_price(quantity, price_per_unit):\n",
    "    total_cost = quantity * price_per_unit\n",
    "\n",
    "    # Apply discount based on the total cost\n",
    "    if total_cost >= 1000:\n",
    "        discount = total_cost * 0.1  # 10% discount for total cost >= 1000\n",
    "    else:\n",
    "        discount = 0\n",
    "\n",
    "    discounted_price = total_cost - discount\n",
    "    return discounted_price\n",
    "\n",
    "# Input quantity and price per unit of the items\n",
    "quantity = int(input(\"Enter the quantity of items: \"))\n",
    "price_per_unit = float(input(\"Enter the price per unit: \"))\n",
    "\n",
    "# Calculate and display the total cost after applying discounts\n",
    "total_cost = calculate_discounted_price(quantity, price_per_unit)\n",
    "print(f\"The total cost of {quantity} items at {price_per_unit} per unit is: {total_cost:.2f}\")\n"
   ]
  },
  {
   "cell_type": "markdown",
   "metadata": {},
   "source": [
    "10. Write a program that checks if a given number is even or odd."
   ]
  },
  {
   "cell_type": "code",
   "execution_count": 20,
   "metadata": {},
   "outputs": [
    {
     "name": "stdout",
     "output_type": "stream",
     "text": [
      "Enter a number: 12345\n",
      "The number 12345 is: Odd\n"
     ]
    }
   ],
   "source": [
    "def check_even_odd(number):\n",
    "    if number % 2 == 0:\n",
    "        return \"Even\"\n",
    "    else:\n",
    "        return \"Odd\"\n",
    "\n",
    "# Input a number to check if it's even or odd\n",
    "num = int(input(\"Enter a number: \"))\n",
    "\n",
    "# Check and display whether the entered number is even or odd\n",
    "result = check_even_odd(num)\n",
    "print(f\"The number {num} is: {result}\")\n"
   ]
  },
  {
   "cell_type": "markdown",
   "metadata": {},
   "source": [
    "# Intermediate Level:"
   ]
  },
  {
   "cell_type": "markdown",
   "metadata": {},
   "source": [
    "11. Write a program that calculates the roots of a quadratic equation ."
   ]
  },
  {
   "cell_type": "code",
   "execution_count": 21,
   "metadata": {},
   "outputs": [
    {
     "name": "stdout",
     "output_type": "stream",
     "text": [
      "Enter coefficient a: 12\n",
      "Enter coefficient b: 12\n",
      "Enter coefficient c: `123\n"
     ]
    },
    {
     "ename": "ValueError",
     "evalue": "could not convert string to float: '`123'",
     "output_type": "error",
     "traceback": [
      "\u001b[1;31m---------------------------------------------------------------------------\u001b[0m",
      "\u001b[1;31mValueError\u001b[0m                                Traceback (most recent call last)",
      "\u001b[1;32m<ipython-input-21-6304709df233>\u001b[0m in \u001b[0;36m<module>\u001b[1;34m\u001b[0m\n\u001b[0;32m     14\u001b[0m \u001b[0ma\u001b[0m \u001b[1;33m=\u001b[0m \u001b[0mfloat\u001b[0m\u001b[1;33m(\u001b[0m\u001b[0minput\u001b[0m\u001b[1;33m(\u001b[0m\u001b[1;34m\"Enter coefficient a: \"\u001b[0m\u001b[1;33m)\u001b[0m\u001b[1;33m)\u001b[0m\u001b[1;33m\u001b[0m\u001b[1;33m\u001b[0m\u001b[0m\n\u001b[0;32m     15\u001b[0m \u001b[0mb\u001b[0m \u001b[1;33m=\u001b[0m \u001b[0mfloat\u001b[0m\u001b[1;33m(\u001b[0m\u001b[0minput\u001b[0m\u001b[1;33m(\u001b[0m\u001b[1;34m\"Enter coefficient b: \"\u001b[0m\u001b[1;33m)\u001b[0m\u001b[1;33m)\u001b[0m\u001b[1;33m\u001b[0m\u001b[1;33m\u001b[0m\u001b[0m\n\u001b[1;32m---> 16\u001b[1;33m \u001b[0mc\u001b[0m \u001b[1;33m=\u001b[0m \u001b[0mfloat\u001b[0m\u001b[1;33m(\u001b[0m\u001b[0minput\u001b[0m\u001b[1;33m(\u001b[0m\u001b[1;34m\"Enter coefficient c: \"\u001b[0m\u001b[1;33m)\u001b[0m\u001b[1;33m)\u001b[0m\u001b[1;33m\u001b[0m\u001b[1;33m\u001b[0m\u001b[0m\n\u001b[0m\u001b[0;32m     17\u001b[0m \u001b[1;33m\u001b[0m\u001b[0m\n\u001b[0;32m     18\u001b[0m \u001b[1;31m# Calculate and display the roots of the quadratic equation\u001b[0m\u001b[1;33m\u001b[0m\u001b[1;33m\u001b[0m\u001b[1;33m\u001b[0m\u001b[0m\n",
      "\u001b[1;31mValueError\u001b[0m: could not convert string to float: '`123'"
     ]
    }
   ],
   "source": [
    "import cmath\n",
    "\n",
    "def calculate_roots(a, b, c):\n",
    "    # Calculate the discriminant\n",
    "    discriminant = (b ** 2) - (4 * a * c)\n",
    "\n",
    "    # Calculate roots\n",
    "    root1 = (-b + cmath.sqrt(discriminant)) / (2 * a)\n",
    "    root2 = (-b - cmath.sqrt(discriminant)) / (2 * a)\n",
    "\n",
    "    return root1, root2\n",
    "\n",
    "# Input coefficients of the quadratic equation\n",
    "a = float(input(\"Enter coefficient a: \"))\n",
    "b = float(input(\"Enter coefficient b: \"))\n",
    "c = float(input(\"Enter coefficient c: \"))\n",
    "\n",
    "# Calculate and display the roots of the quadratic equation\n",
    "root1, root2 = calculate_roots(a, b, c)\n",
    "print(f\"The roots of the quadratic equation are: {root1} and {root2}\")\n"
   ]
  },
  {
   "cell_type": "markdown",
   "metadata": {},
   "source": [
    "12. Create a program that determines the day of the week based on the day number (1-7)."
   ]
  },
  {
   "cell_type": "code",
   "execution_count": null,
   "metadata": {},
   "outputs": [],
   "source": [
    "def get_day_of_week(day_number):\n",
    "    days_of_week = {\n",
    "        1: \"Monday\",\n",
    "        2: \"Tuesday\",\n",
    "        3: \"Wednesday\",\n",
    "        4: \"Thursday\",\n",
    "        5: \"Friday\",\n",
    "        6: \"Saturday\",\n",
    "        7: \"Sunday\"\n",
    "    }\n",
    "\n",
    "    return days_of_week.get(day_number, \"Invalid day number\")\n",
    "\n",
    "# Input the day number (1-7) to determine the day of the week\n",
    "day_number = int(input(\"Enter the day number (1-7): \"))\n",
    "\n",
    "# Determine and display the day of the week based on the day number\n",
    "day_of_week = get_day_of_week(day_number)\n",
    "print(f\"The day number {day_number} corresponds to: {day_of_week}\")\n"
   ]
  },
  {
   "cell_type": "markdown",
   "metadata": {},
   "source": [
    "13. Develop a program that calculates the factorial of a given number using recursion."
   ]
  },
  {
   "cell_type": "code",
   "execution_count": 22,
   "metadata": {},
   "outputs": [
    {
     "name": "stdout",
     "output_type": "stream",
     "text": [
      "Enter a number to find its factorial: 23\n",
      "The factorial of 23 is: 25852016738884976640000\n"
     ]
    }
   ],
   "source": [
    "def factorial(n):\n",
    "    if n == 0 or n == 1:\n",
    "        return 1\n",
    "    else:\n",
    "        return n * factorial(n - 1)\n",
    "\n",
    "# Input the number to calculate its factorial\n",
    "number = int(input(\"Enter a number to find its factorial: \"))\n",
    "\n",
    "# Calculate and display the factorial of the entered number\n",
    "fact = factorial(number)\n",
    "print(f\"The factorial of {number} is: {fact}\")\n"
   ]
  },
  {
   "cell_type": "markdown",
   "metadata": {},
   "source": [
    "14. Write a program to find the largest among three numbers without using the `max()` function."
   ]
  },
  {
   "cell_type": "code",
   "execution_count": 23,
   "metadata": {},
   "outputs": [
    {
     "name": "stdout",
     "output_type": "stream",
     "text": [
      "Enter first number: 23\n",
      "Enter second number: 23\n",
      "Enter third number: 23\n",
      "The largest of 23.0, 23.0, and 23.0 is: 23.0\n"
     ]
    }
   ],
   "source": [
    "def find_largest(num1, num2, num3):\n",
    "    if num1 >= num2 and num1 >= num3:\n",
    "        largest = num1\n",
    "    elif num2 >= num1 and num2 >= num3:\n",
    "        largest = num2\n",
    "    else:\n",
    "        largest = num3\n",
    "    return largest\n",
    "\n",
    "# Input three numbers to find the largest\n",
    "number1 = float(input(\"Enter first number: \"))\n",
    "number2 = float(input(\"Enter second number: \"))\n",
    "number3 = float(input(\"Enter third number: \"))\n",
    "\n",
    "# Find and display the largest among the three numbers\n",
    "largest_number = find_largest(number1, number2, number3)\n",
    "print(f\"The largest of {number1}, {number2}, and {number3} is: {largest_number}\")\n"
   ]
  },
  {
   "cell_type": "markdown",
   "metadata": {},
   "source": [
    "15. Create a program that simulates a basic ATM transaction menu."
   ]
  },
  {
   "cell_type": "code",
   "execution_count": 24,
   "metadata": {},
   "outputs": [
    {
     "name": "stdout",
     "output_type": "stream",
     "text": [
      "\n",
      "===== ATM Transaction Menu =====\n",
      "1. Check Balance\n",
      "2. Deposit\n",
      "3. Withdraw\n",
      "4. Exit\n",
      "Enter your choice (1-4): 3\n",
      "Enter the amount to withdraw: $34\n",
      "Withdrawal successful. Your new balance is: $966.00\n",
      "\n",
      "===== ATM Transaction Menu =====\n",
      "1. Check Balance\n",
      "2. Deposit\n",
      "3. Withdraw\n",
      "4. Exit\n",
      "Enter your choice (1-4): 1\n",
      "Your current balance is: $966.00\n",
      "\n",
      "===== ATM Transaction Menu =====\n",
      "1. Check Balance\n",
      "2. Deposit\n",
      "3. Withdraw\n",
      "4. Exit\n",
      "Enter your choice (1-4): 234\n",
      "Invalid choice! Please enter a number from 1 to 4.\n",
      "\n",
      "===== ATM Transaction Menu =====\n",
      "1. Check Balance\n",
      "2. Deposit\n",
      "3. Withdraw\n",
      "4. Exit\n",
      "Enter your choice (1-4): 4\n",
      "Thank you for using the ATM. Goodbye!\n"
     ]
    }
   ],
   "source": [
    "def check_balance(balance):\n",
    "    print(f\"Your current balance is: ${balance:.2f}\")\n",
    "\n",
    "def deposit(balance, amount):\n",
    "    balance += amount\n",
    "    print(f\"Deposit successful. Your new balance is: ${balance:.2f}\")\n",
    "    return balance\n",
    "\n",
    "def withdraw(balance, amount):\n",
    "    if amount > balance:\n",
    "        print(\"Insufficient funds! Withdrawal unsuccessful.\")\n",
    "    else:\n",
    "        balance -= amount\n",
    "        print(f\"Withdrawal successful. Your new balance is: ${balance:.2f}\")\n",
    "    return balance\n",
    "\n",
    "def main():\n",
    "    current_balance = 1000  # Initial balance\n",
    "    while True:\n",
    "        print(\"\\n===== ATM Transaction Menu =====\")\n",
    "        print(\"1. Check Balance\")\n",
    "        print(\"2. Deposit\")\n",
    "        print(\"3. Withdraw\")\n",
    "        print(\"4. Exit\")\n",
    "\n",
    "        choice = int(input(\"Enter your choice (1-4): \"))\n",
    "\n",
    "        if choice == 1:\n",
    "            check_balance(current_balance)\n",
    "        elif choice == 2:\n",
    "            deposit_amount = float(input(\"Enter the amount to deposit: $\"))\n",
    "            current_balance = deposit(current_balance, deposit_amount)\n",
    "        elif choice == 3:\n",
    "            withdraw_amount = float(input(\"Enter the amount to withdraw: $\"))\n",
    "            current_balance = withdraw(current_balance, withdraw_amount)\n",
    "        elif choice == 4:\n",
    "            print(\"Thank you for using the ATM. Goodbye!\")\n",
    "            break\n",
    "        else:\n",
    "            print(\"Invalid choice! Please enter a number from 1 to 4.\")\n",
    "\n",
    "if __name__ == \"__main__\":\n",
    "    main()\n"
   ]
  },
  {
   "cell_type": "markdown",
   "metadata": {},
   "source": [
    "16. Build a program that checks if a given string is a palindrome or not."
   ]
  },
  {
   "cell_type": "code",
   "execution_count": 25,
   "metadata": {},
   "outputs": [
    {
     "name": "stdout",
     "output_type": "stream",
     "text": [
      "Enter a string: asdfghjk\n",
      "The string 'asdfghjk' is not a palindrome.\n"
     ]
    }
   ],
   "source": [
    "def is_palindrome(string):\n",
    "    # Remove spaces and convert the string to lowercase\n",
    "    string = string.replace(\" \", \"\").lower()\n",
    "    # Reverse the string and compare it with the original string\n",
    "    return string == string[::-1]\n",
    "\n",
    "# Input a string to check if it's a palindrome\n",
    "input_string = input(\"Enter a string: \")\n",
    "\n",
    "# Check if the entered string is a palindrome and display the result\n",
    "if is_palindrome(input_string):\n",
    "    print(f\"The string '{input_string}' is a palindrome.\")\n",
    "else:\n",
    "    print(f\"The string '{input_string}' is not a palindrome.\")\n"
   ]
  },
  {
   "cell_type": "markdown",
   "metadata": {},
   "source": [
    "17. Write a program that calculates the average of a list of numbers, excluding the smallest and largest values."
   ]
  },
  {
   "cell_type": "code",
   "execution_count": 26,
   "metadata": {},
   "outputs": [
    {
     "name": "stdout",
     "output_type": "stream",
     "text": [
      "Enter a list of numbers separated by spaces: 1 2 3  6 8 9 0 -0  6 5 3 2 3 5 8  0 9765\n",
      "The average of the numbers (excluding smallest and largest) is: 4.07\n"
     ]
    }
   ],
   "source": [
    "def calculate_average(numbers):\n",
    "    if len(numbers) <= 2:\n",
    "        return \"List should contain at least three numbers to calculate the average excluding smallest and largest.\"\n",
    "\n",
    "    # Find the smallest and largest numbers in the list\n",
    "    smallest = min(numbers)\n",
    "    largest = max(numbers)\n",
    "\n",
    "    # Remove smallest and largest numbers from the list\n",
    "    numbers.remove(smallest)\n",
    "    numbers.remove(largest)\n",
    "\n",
    "    # Calculate the average of the remaining numbers\n",
    "    average = sum(numbers) / len(numbers)\n",
    "    return average\n",
    "\n",
    "# Input a list of numbers separated by spaces\n",
    "input_numbers = input(\"Enter a list of numbers separated by spaces: \")\n",
    "numbers_list = list(map(float, input_numbers.split()))\n",
    "\n",
    "# Calculate the average excluding the smallest and largest values\n",
    "result = calculate_average(numbers_list)\n",
    "print(f\"The average of the numbers (excluding smallest and largest) is: {result:.2f}\")\n"
   ]
  },
  {
   "cell_type": "markdown",
   "metadata": {},
   "source": [
    "18. Develop a program that converts a given temperature from Celsius to Fahrenheit."
   ]
  },
  {
   "cell_type": "code",
   "execution_count": 27,
   "metadata": {},
   "outputs": [
    {
     "name": "stdout",
     "output_type": "stream",
     "text": [
      "Enter temperature in Celsius: 2345\n",
      "The temperature 2345.0°C is equal to 4253.0°F\n"
     ]
    }
   ],
   "source": [
    "def celsius_to_fahrenheit(celsius):\n",
    "    fahrenheit = (celsius * 9/5) + 32\n",
    "    return fahrenheit\n",
    "\n",
    "# Input temperature in Celsius\n",
    "celsius_temp = float(input(\"Enter temperature in Celsius: \"))\n",
    "\n",
    "# Convert Celsius to Fahrenheit and display the result\n",
    "fahrenheit_result = celsius_to_fahrenheit(celsius_temp)\n",
    "print(f\"The temperature {celsius_temp}°C is equal to {fahrenheit_result}°F\")\n"
   ]
  },
  {
   "cell_type": "markdown",
   "metadata": {},
   "source": [
    "19. Create a program that simulates a basic calculator for addition, subtraction, multiplication, and division."
   ]
  },
  {
   "cell_type": "code",
   "execution_count": 28,
   "metadata": {},
   "outputs": [
    {
     "name": "stdout",
     "output_type": "stream",
     "text": [
      "Select operation:\n",
      "1. Addition\n",
      "2. Subtraction\n",
      "3. Multiplication\n",
      "4. Division\n",
      "Enter choice (1/2/3/4): 1\n",
      "Enter first number: 2\n",
      "Enter second number: 2\n",
      "Result: 4.0\n"
     ]
    }
   ],
   "source": [
    "def add(x, y):\n",
    "    return x + y\n",
    "\n",
    "def subtract(x, y):\n",
    "    return x - y\n",
    "\n",
    "def multiply(x, y):\n",
    "    return x * y\n",
    "\n",
    "def divide(x, y):\n",
    "    if y == 0:\n",
    "        return \"Cannot divide by zero!\"\n",
    "    return x / y\n",
    "\n",
    "print(\"Select operation:\")\n",
    "print(\"1. Addition\")\n",
    "print(\"2. Subtraction\")\n",
    "print(\"3. Multiplication\")\n",
    "print(\"4. Division\")\n",
    "\n",
    "while True:\n",
    "    choice = input(\"Enter choice (1/2/3/4): \")\n",
    "\n",
    "    if choice in ('1', '2', '3', '4'):\n",
    "        num1 = float(input(\"Enter first number: \"))\n",
    "        num2 = float(input(\"Enter second number: \"))\n",
    "\n",
    "        if choice == '1':\n",
    "            print(\"Result:\", add(num1, num2))\n",
    "        elif choice == '2':\n",
    "            print(\"Result:\", subtract(num1, num2))\n",
    "        elif choice == '3':\n",
    "            print(\"Result:\", multiply(num1, num2))\n",
    "        elif choice == '4':\n",
    "            print(\"Result:\", divide(num1, num2))\n",
    "        break\n",
    "    else:\n",
    "        print(\"Invalid input! Please enter a valid number (1/2/3/4).\")\n"
   ]
  },
  {
   "cell_type": "markdown",
   "metadata": {},
   "source": [
    "20. Write a program that determines the roots of a cubic equation using the Cardano formula."
   ]
  },
  {
   "cell_type": "code",
   "execution_count": 29,
   "metadata": {},
   "outputs": [
    {
     "name": "stdout",
     "output_type": "stream",
     "text": [
      "Enter coefficient a: 5\n",
      "Enter coefficient b: 7\n",
      "Enter coefficient c: 8\n",
      "Enter coefficient d: 0\n",
      "The root of the cubic equation is: (0.5624143795447331+0.324710093426268j)\n"
     ]
    }
   ],
   "source": [
    "import cmath\n",
    "\n",
    "def solve_cubic_equation(a, b, c, d):\n",
    "    # Calculate discriminant and intermediate values\n",
    "    p = c / a - (b ** 2) / (3 * a ** 2)\n",
    "    q = (2 * b ** 3) / (27 * a ** 3) - (b * c) / (3 * a ** 2) + d / a\n",
    "    discriminant = (q ** 2) / 4 + (p ** 3) / 27\n",
    "\n",
    "    if discriminant > 0:\n",
    "        # Case 1: Three real roots\n",
    "        u = (-q / 2 + cmath.sqrt(discriminant)) ** (1 / 3)\n",
    "        v = (-q / 2 - cmath.sqrt(discriminant)) ** (1 / 3)\n",
    "        root1 = u + v - b / (3 * a)\n",
    "        return root1\n",
    "\n",
    "    elif discriminant == 0:\n",
    "        # Case 2: Repeated roots\n",
    "        if p == q == 0:\n",
    "            root1 = -b / (3 * a)\n",
    "        else:\n",
    "            root1 = -b / (3 * a) - q / (2 * a) + p ** (1 / 3)\n",
    "        return root1\n",
    "\n",
    "    else:\n",
    "        # Case 3: One real root, two complex roots\n",
    "        r = ((q ** 2) / 4 - (p ** 3) / 27) ** (1 / 2)\n",
    "        theta = cmath.acos(-q / (2 * r))\n",
    "        s = cmath.exp(theta * 1j / 3)\n",
    "        t = cmath.exp(-theta * 1j / 3)\n",
    "        root1 = 2 * r * s - b / (3 * a)\n",
    "        return root1\n",
    "\n",
    "# Input coefficients of the cubic equation\n",
    "a = float(input(\"Enter coefficient a: \"))\n",
    "b = float(input(\"Enter coefficient b: \"))\n",
    "c = float(input(\"Enter coefficient c: \"))\n",
    "d = float(input(\"Enter coefficient d: \"))\n",
    "\n",
    "# Calculate and display the roots of the cubic equation\n",
    "root = solve_cubic_equation(a, b, c, d)\n",
    "print(f\"The root of the cubic equation is: {root}\")\n"
   ]
  },
  {
   "cell_type": "markdown",
   "metadata": {},
   "source": [
    "Advanced Level:"
   ]
  },
  {
   "cell_type": "markdown",
   "metadata": {},
   "source": [
    "21. Create a program that calculates the income tax based on the user's income and tax brackets."
   ]
  },
  {
   "cell_type": "code",
   "execution_count": 31,
   "metadata": {},
   "outputs": [
    {
     "name": "stdout",
     "output_type": "stream",
     "text": [
      "Enter your monthly income: 30000\n",
      "The income tax for an income of $30000.00 is: $7000.00\n"
     ]
    }
   ],
   "source": [
    "def calculate_tax(income):\n",
    "    if income <= 0:\n",
    "        return 0\n",
    "\n",
    "    tax = 0\n",
    "\n",
    "    # Define tax brackets and corresponding rates\n",
    "    brackets = [10000, 40000, 80000]  # Example income brackets\n",
    "    rates = [0.1, 0.2, 0.3, 0.4]  # Example tax rates\n",
    "\n",
    "    # Calculate tax based on income and tax brackets\n",
    "    for i, bracket in enumerate(brackets):\n",
    "        if income > bracket:\n",
    "            if i == len(rates) - 1:\n",
    "                tax += (income - brackets[i]) * rates[i]\n",
    "            else:\n",
    "                tax += (brackets[i + 1] - brackets[i]) * rates[i]\n",
    "        else:\n",
    "            tax += (income - brackets[i - 1]) * rates[i]\n",
    "            break\n",
    "\n",
    "    return tax\n",
    "\n",
    "# Input user's income\n",
    "user_income = float(input(\"Enter your monthly income: \"))\n",
    "\n",
    "# Calculate and display the income tax\n",
    "income_tax = calculate_tax(user_income)\n",
    "print(f\"The income tax for an income of ${user_income:.2f} is: ${income_tax:.2f}\")\n"
   ]
  },
  {
   "cell_type": "markdown",
   "metadata": {},
   "source": [
    "22. Write a program that simulates a rock-paper-scissors game against the computer."
   ]
  },
  {
   "cell_type": "code",
   "execution_count": 32,
   "metadata": {},
   "outputs": [
    {
     "name": "stdout",
     "output_type": "stream",
     "text": [
      "Let's play Rock-Paper-Scissors!\n",
      "Enter your choice: rock, paper, or scissors.\n",
      "Your choice: rock\n",
      "Computer's choice: scissors\n",
      "You win!\n",
      "Do you want to play again? (yes/no): yes\n",
      "Your choice: paper\n",
      "Computer's choice: paper\n",
      "It's a tie!\n",
      "Do you want to play again? (yes/no): no\n",
      "Thanks for playing. Goodbye!\n"
     ]
    }
   ],
   "source": [
    "import random\n",
    "\n",
    "def determine_winner(player_choice, computer_choice):\n",
    "    if player_choice == computer_choice:\n",
    "        return \"It's a tie!\"\n",
    "\n",
    "    if (player_choice == 'rock' and computer_choice == 'scissors') or \\\n",
    "       (player_choice == 'paper' and computer_choice == 'rock') or \\\n",
    "       (player_choice == 'scissors' and computer_choice == 'paper'):\n",
    "        return \"You win!\"\n",
    "    else:\n",
    "        return \"Computer wins!\"\n",
    "\n",
    "def get_computer_choice():\n",
    "    choices = ['rock', 'paper', 'scissors']\n",
    "    return random.choice(choices)\n",
    "\n",
    "print(\"Let's play Rock-Paper-Scissors!\")\n",
    "print(\"Enter your choice: rock, paper, or scissors.\")\n",
    "\n",
    "while True:\n",
    "    player_choice = input(\"Your choice: \").lower()\n",
    "\n",
    "    if player_choice in ['rock', 'paper', 'scissors']:\n",
    "        computer_choice = get_computer_choice()\n",
    "        print(f\"Computer's choice: {computer_choice}\")\n",
    "\n",
    "        result = determine_winner(player_choice, computer_choice)\n",
    "        print(result)\n",
    "\n",
    "        play_again = input(\"Do you want to play again? (yes/no): \").lower()\n",
    "        if play_again != 'yes':\n",
    "            print(\"Thanks for playing. Goodbye!\")\n",
    "            break\n",
    "    else:\n",
    "        print(\"Invalid choice! Please enter rock, paper, or scissors.\")\n"
   ]
  },
  {
   "cell_type": "markdown",
   "metadata": {},
   "source": [
    "23. Develop a program that generates a random password based on user preferences (length, complexity)."
   ]
  },
  {
   "cell_type": "code",
   "execution_count": 33,
   "metadata": {},
   "outputs": [
    {
     "name": "stdout",
     "output_type": "stream",
     "text": [
      "Enter the length of the password: 6\n",
      "Choose complexity level: low, medium, high\n",
      "Enter complexity level: high\n",
      "Generated password: KuTwKk\n"
     ]
    }
   ],
   "source": [
    "import random\n",
    "import string\n",
    "\n",
    "def generate_password(length, complexity):\n",
    "    if complexity == 'low':\n",
    "        chars = string.ascii_letters + string.digits\n",
    "    elif complexity == 'medium':\n",
    "        chars = string.ascii_letters + string.digits + string.punctuation\n",
    "    elif complexity == 'high':\n",
    "        chars = string.ascii_letters + string.digits + string.punctuation + string.ascii_uppercase\n",
    "\n",
    "    password = ''.join(random.choice(chars) for _ in range(length))\n",
    "    return password\n",
    "\n",
    "# Input preferences for password length and complexity\n",
    "length = int(input(\"Enter the length of the password: \"))\n",
    "print(\"Choose complexity level: low, medium, high\")\n",
    "complexity = input(\"Enter complexity level: \").lower()\n",
    "\n",
    "# Generate and display the random password\n",
    "password = generate_password(length, complexity)\n",
    "print(f\"Generated password: {password}\")\n"
   ]
  },
  {
   "cell_type": "markdown",
   "metadata": {},
   "source": [
    "24. Create a program that implements a simple text-based adventure game with branching scenarios."
   ]
  },
  {
   "cell_type": "code",
   "execution_count": 34,
   "metadata": {},
   "outputs": [
    {
     "name": "stdout",
     "output_type": "stream",
     "text": [
      "Welcome to the Adventure Game!\n",
      "You find yourself in a dark room.\n",
      "\n",
      "What do you want to do?\n",
      "1. Open the door\n",
      "2. Look for a light switch\n",
      "3. Wait\n",
      "Enter your choice (1/2/3): 1\n",
      "\n",
      "You open the door and see a staircase going up.\n",
      "What will you do next?\n",
      "1. Climb the staircase\n",
      "2. Go back to the dark room\n",
      "Enter your choice (1/2): 1\n",
      "\n",
      "You climb the staircase and reach a room with three doors.\n",
      "Which door will you choose?\n",
      "1. Door on the left\n",
      "2. Door in the middle\n",
      "3. Door on the right\n",
      "Enter your choice (1/2/3): 1\n",
      "\n",
      "You open the door and find treasure! Congratulations, you win!\n"
     ]
    }
   ],
   "source": [
    "def start_game():\n",
    "    print(\"Welcome to the Adventure Game!\")\n",
    "    print(\"You find yourself in a dark room.\")\n",
    "\n",
    "    while True:\n",
    "        print(\"\\nWhat do you want to do?\")\n",
    "        print(\"1. Open the door\")\n",
    "        print(\"2. Look for a light switch\")\n",
    "        print(\"3. Wait\")\n",
    "\n",
    "        choice = input(\"Enter your choice (1/2/3): \")\n",
    "\n",
    "        if choice == '1':\n",
    "            open_door()\n",
    "            break\n",
    "        elif choice == '2':\n",
    "            find_light_switch()\n",
    "            break\n",
    "        elif choice == '3':\n",
    "            wait()\n",
    "            break\n",
    "        else:\n",
    "            print(\"Invalid choice! Please enter 1, 2, or 3.\")\n",
    "\n",
    "def open_door():\n",
    "    print(\"\\nYou open the door and see a staircase going up.\")\n",
    "    print(\"What will you do next?\")\n",
    "    print(\"1. Climb the staircase\")\n",
    "    print(\"2. Go back to the dark room\")\n",
    "\n",
    "    choice = input(\"Enter your choice (1/2): \")\n",
    "\n",
    "    if choice == '1':\n",
    "        climb_staircase()\n",
    "    elif choice == '2':\n",
    "        start_game()\n",
    "    else:\n",
    "        print(\"Invalid choice! Please enter 1 or 2.\")\n",
    "        open_door()\n",
    "\n",
    "def find_light_switch():\n",
    "    print(\"\\nYou search around and find a light switch.\")\n",
    "    print(\"Do you want to turn it on?\")\n",
    "    print(\"1. Yes\")\n",
    "    print(\"2. No\")\n",
    "\n",
    "    choice = input(\"Enter your choice (1/2): \")\n",
    "\n",
    "    if choice == '1':\n",
    "        turn_on_light()\n",
    "    elif choice == '2':\n",
    "        start_game()\n",
    "    else:\n",
    "        print(\"Invalid choice! Please enter 1 or 2.\")\n",
    "        find_light_switch()\n",
    "\n",
    "def wait():\n",
    "    print(\"\\nYou decide to wait...\")\n",
    "    print(\"After a while, nothing happens.\")\n",
    "    start_game()\n",
    "\n",
    "def climb_staircase():\n",
    "    print(\"\\nYou climb the staircase and reach a room with three doors.\")\n",
    "    print(\"Which door will you choose?\")\n",
    "    print(\"1. Door on the left\")\n",
    "    print(\"2. Door in the middle\")\n",
    "    print(\"3. Door on the right\")\n",
    "\n",
    "    choice = input(\"Enter your choice (1/2/3): \")\n",
    "\n",
    "    if choice in ('1', '2', '3'):\n",
    "        print(\"\\nYou open the door and find treasure! Congratulations, you win!\")\n",
    "    else:\n",
    "        print(\"Invalid choice! Please enter 1, 2, or 3.\")\n",
    "        climb_staircase()\n",
    "\n",
    "def turn_on_light():\n",
    "    print(\"\\nThe room lights up, revealing a key on the table.\")\n",
    "    print(\"You pick up the key and return to the dark room.\")\n",
    "    start_game()\n",
    "\n",
    "# Start the game\n",
    "start_game()\n"
   ]
  },
  {
   "cell_type": "markdown",
   "metadata": {},
   "source": [
    "25. Build a program that solves a linear equation for x, considering different cases."
   ]
  },
  {
   "cell_type": "code",
   "execution_count": null,
   "metadata": {},
   "outputs": [],
   "source": [
    "#### def solve_linear_equation(a, b):\n",
    "    if a == 0 and b == 0:\n",
    "        return \"Infinite solutions (Identity equation)\"\n",
    "    elif a == 0 and b != 0:\n",
    "        return \"No solution (Contradiction)\"\n",
    "    else:\n",
    "        x = -b / a\n",
    "        return x\n",
    "\n",
    "# Input coefficients of the linear equation (ax + b = 0)\n",
    "a = float(input(\"Enter coefficient a: \"))\n",
    "b = float(input(\"Enter coefficient b: \"))\n",
    "\n",
    "# Solve the linear equation and display the result\n",
    "solution = solve_linear_equation(a, b)\n",
    "print(f\"The solution for the linear equation {a}x + {b} = 0 is: {solution}\")\n"
   ]
  },
  {
   "cell_type": "markdown",
   "metadata": {},
   "source": [
    "26. Write a program that simulates a basic quiz game with multiple-choice questions and scoring."
   ]
  },
  {
   "cell_type": "code",
   "execution_count": 38,
   "metadata": {},
   "outputs": [
    {
     "name": "stdout",
     "output_type": "stream",
     "text": [
      "What is the capital of France?\n",
      "1. London\n",
      "2. Paris\n",
      "3. Rome\n",
      "4. Berlin\n",
      "\n",
      "Enter your answer (1/2/3/4): 1\n",
      "Wrong! The correct answer is: Paris\n",
      "Which planet is known as the 'Red Planet'?\n",
      "1. Mars\n",
      "2. Jupiter\n",
      "3. Saturn\n",
      "4. Mercury\n",
      "\n",
      "Enter your answer (1/2/3/4): 1\n",
      "Correct!\n",
      "What is the largest mammal in the world?\n",
      "1. Elephant\n",
      "2. Blue Whale\n",
      "3. Giraffe\n",
      "4. Hippopotamus\n",
      "\n",
      "Enter your answer (1/2/3/4): 1\n",
      "Wrong! The correct answer is: Blue Whale\n",
      "\n",
      "You got 1 out of 3 questions correct.\n"
     ]
    }
   ],
   "source": [
    "class Question:\n",
    "    def __init__(self, prompt, options, answer):\n",
    "        self.prompt = prompt\n",
    "        self.options = options\n",
    "        self.answer = answer\n",
    "\n",
    "    def display_question(self):\n",
    "        print(self.prompt)\n",
    "        for idx, option in enumerate(self.options):\n",
    "            print(f\"{idx + 1}. {option}\")\n",
    "        print()\n",
    "\n",
    "    def check_answer(self, user_answer):\n",
    "        return user_answer.lower() == self.answer.lower()\n",
    "\n",
    "\n",
    "def run_quiz(questions):\n",
    "    score = 0\n",
    "    for question in questions:\n",
    "        question.display_question()\n",
    "        user_input = input(\"Enter your answer (1/2/3/4): \")\n",
    "        if user_input.isdigit() and 1 <= int(user_input) <= len(question.options):\n",
    "            user_answer = question.options[int(user_input) - 1]\n",
    "            if question.check_answer(user_answer):\n",
    "                print(\"Correct!\")\n",
    "                score += 1\n",
    "            else:\n",
    "                print(f\"Wrong! The correct answer is: {question.answer}\")\n",
    "        else:\n",
    "            print(\"Invalid input! Please enter a number from 1 to 4.\")\n",
    "\n",
    "    print(f\"\\nYou got {score} out of {len(questions)} questions correct.\")\n",
    "\n",
    "\n",
    "# Define quiz questions (prompt, options, answer)\n",
    "questions = [\n",
    "    Question(\"What is the capital of France?\", [\"London\", \"Paris\", \"Rome\", \"Berlin\"], \"Paris\"),\n",
    "    Question(\"Which planet is known as the 'Red Planet'?\", [\"Mars\", \"Jupiter\", \"Saturn\", \"Mercury\"], \"Mars\"),\n",
    "    Question(\"What is the largest mammal in the world?\", [\"Elephant\", \"Blue Whale\", \"Giraffe\", \"Hippopotamus\"], \"Blue Whale\")\n",
    "]\n",
    "\n",
    "# Run the quiz\n",
    "run_quiz(questions)\n"
   ]
  },
  {
   "cell_type": "markdown",
   "metadata": {},
   "source": [
    "27. Develop a program that determines whether a given year is a prime number or not."
   ]
  },
  {
   "cell_type": "code",
   "execution_count": null,
   "metadata": {},
   "outputs": [],
   "source": [
    "def is_prime(year):\n",
    "    if year <= 1:\n",
    "        return False\n",
    "    for i in range(2, int(year ** 0.5) + 1):\n",
    "        if year % i == 0:\n",
    "            return False\n",
    "    return True\n",
    "\n",
    "# Input the year to check for primality\n",
    "year_to_check = int(input(\"Enter a year to check if it's prime: \"))\n",
    "\n",
    "# Check if the year is prime or not and display the result\n",
    "if is_prime(year_to_check):\n",
    "    print(f\"{year_to_check} is a prime year.\")\n",
    "else:\n",
    "    print(f\"{year_to_check} is not a prime year.\")\n"
   ]
  },
  {
   "cell_type": "markdown",
   "metadata": {},
   "source": [
    "28. Create a program that sorts three numbers in ascending order using conditional statements."
   ]
  },
  {
   "cell_type": "code",
   "execution_count": null,
   "metadata": {},
   "outputs": [],
   "source": [
    "def sort_numbers(a, b, c):\n",
    "    if a <= b <= c:\n",
    "        return a, b, c\n",
    "    elif a <= c <= b:\n",
    "        return a, c, b\n",
    "    elif b <= a <= c:\n",
    "        return b, a, c\n",
    "    elif b <= c <= a:\n",
    "        return b, c, a\n",
    "    elif c <= a <= b:\n",
    "        return c, a, b\n",
    "    else:\n",
    "        return c, b, a\n",
    "\n",
    "# Input three numbers\n",
    "num1 = float(input(\"Enter first number: \"))\n",
    "num2 = float(input(\"Enter second number: \"))\n",
    "num3 = float(input(\"Enter third number: \"))\n",
    "\n",
    "# Sort the numbers in ascending order and display the result\n",
    "sorted_nums = sort_numbers(num1, num2, num3)\n",
    "print(f\"The numbers in ascending order are: {sorted_nums[0]}, {sorted_nums[1]}, {sorted_nums[2]}\")\n"
   ]
  },
  {
   "cell_type": "markdown",
   "metadata": {},
   "source": [
    "29. Build a program that determines the roots of a quartic equation using numerical methods."
   ]
  },
  {
   "cell_type": "code",
   "execution_count": null,
   "metadata": {},
   "outputs": [],
   "source": [
    "def quartic_function(x, coefficients):\n",
    "    # Quartic function: ax^4 + bx^3 + cx^2 + dx + e\n",
    "    a, b, c, d, e = coefficients\n",
    "    return a * x**4 + b * x**3 + c * x**2 + d * x + e\n",
    "\n",
    "def derivative_quartic_function(x, coefficients):\n",
    "    # Derivative of the quartic function\n",
    "    a, b, c, d, _ = coefficients\n",
    "    return 4 * a * x**3 + 3 * b * x**2 + 2 * c * x + d\n",
    "\n",
    "def newton_raphson_quartic(coefficients, initial_guess, tolerance, max_iterations):\n",
    "    x = initial_guess\n",
    "    iteration = 0\n",
    "\n",
    "    while iteration < max_iterations:\n",
    "        f_x = quartic_function(x, coefficients)\n",
    "        f_prime_x = derivative_quartic_function(x, coefficients)\n",
    "\n",
    "        if abs(f_prime_x) < 1e-15:\n",
    "            break\n",
    "\n",
    "        x_new = x - f_x / f_prime_x\n",
    "        if abs(x_new - x) < tolerance:\n",
    "            return x_new\n",
    "\n",
    "        x = x_new\n",
    "        iteration += 1\n",
    "\n",
    "    return None\n",
    "\n",
    "# Coefficients of the quartic equation: ax^4 + bx^3 + cx^2 + dx + e\n",
    "coefficients = [1, -10, 35, -50, 24]  # Example coefficients\n",
    "initial_guess = 0.0\n",
    "tolerance = 1e-10\n",
    "max_iterations = 1000\n",
    "\n",
    "# Find roots of the quartic equation using the Newton-Raphson method\n",
    "root = newton_raphson_quartic(coefficients, initial_guess, tolerance, max_iterations)\n",
    "if root is not None:\n",
    "    print(f\"A root of the quartic equation is approximately: {root:.6f}\")\n",
    "else:\n",
    "    print(\"No root found within the given tolerance and iterations.\")\n"
   ]
  },
  {
   "cell_type": "markdown",
   "metadata": {},
   "source": [
    "30. Write a program that calculates the BMI (Body Mass Index) and provides health recommendations based on the user's input."
   ]
  },
  {
   "cell_type": "code",
   "execution_count": null,
   "metadata": {},
   "outputs": [],
   "source": [
    "def calculate_bmi(weight, height):\n",
    "    # BMI formula: weight (kg) / (height (m))^2\n",
    "    return weight / (height ** 2)\n",
    "\n",
    "def get_health_recommendation(bmi):\n",
    "    if bmi < 18.5:\n",
    "        return \"You are underweight. Consider consulting a dietitian.\"\n",
    "    elif 18.5 <= bmi < 25:\n",
    "        return \"Your weight is normal. Keep up the good work!\"\n",
    "    elif 25 <= bmi < 30:\n",
    "        return \"You are overweight. Consider incorporating more exercise and a healthy diet.\"\n",
    "    else:\n",
    "        return \"You are obese. Consult a healthcare professional for advice.\"\n",
    "\n",
    "# Input user's weight and height\n",
    "weight = float(input(\"Enter your weight in kilograms: \"))\n",
    "height = float(input(\"Enter your height in meters: \"))\n",
    "\n",
    "# Calculate BMI\n",
    "bmi = calculate_bmi(weight, height)\n",
    "\n",
    "# Display BMI and health recommendation\n",
    "print(f\"Your BMI is: {bmi:.2f}\")\n",
    "print(get_health_recommendation(bmi))\n"
   ]
  },
  {
   "cell_type": "markdown",
   "metadata": {},
   "source": [
    "Challenge Level:"
   ]
  },
  {
   "cell_type": "markdown",
   "metadata": {},
   "source": [
    "31. Create a program that validates a password based on complexity rules (length, characters, etc.)."
   ]
  },
  {
   "cell_type": "code",
   "execution_count": 39,
   "metadata": {},
   "outputs": [
    {
     "name": "stdout",
     "output_type": "stream",
     "text": [
      "Enter your password: qwerthjnbvcsa\n",
      "Invalid password! Password should contain at least one uppercase letter, one lowercase letter, one digit, and one special character.\n"
     ]
    }
   ],
   "source": [
    "def validate_password(password):\n",
    "    # Minimum length requirement\n",
    "    min_length = 8\n",
    "\n",
    "    # Checking length\n",
    "    if len(password) < min_length:\n",
    "        return False, \"Password should have a minimum length of 8 characters.\"\n",
    "\n",
    "    # Checking for uppercase, lowercase, digit, and special character presence\n",
    "    has_upper = any(char.isupper() for char in password)\n",
    "    has_lower = any(char.islower() for char in password)\n",
    "    has_digit = any(char.isdigit() for char in password)\n",
    "    has_special = any(not char.isalnum() for char in password)\n",
    "\n",
    "    if not (has_upper and has_lower and has_digit and has_special):\n",
    "        return False, \"Password should contain at least one uppercase letter, one lowercase letter, one digit, and one special character.\"\n",
    "\n",
    "    return True, \"Password meets complexity requirements.\"\n",
    "\n",
    "# Input the password for validation\n",
    "password_to_check = input(\"Enter your password: \")\n",
    "\n",
    "# Validate the password\n",
    "valid, message = validate_password(password_to_check)\n",
    "\n",
    "# Display validation result\n",
    "if valid:\n",
    "    print(\"Password is valid.\")\n",
    "else:\n",
    "    print(f\"Invalid password! {message}\")\n"
   ]
  },
  {
   "cell_type": "markdown",
   "metadata": {},
   "source": [
    "32. Develop a program that performs matrix addition and subtraction based on user input."
   ]
  },
  {
   "cell_type": "code",
   "execution_count": null,
   "metadata": {},
   "outputs": [],
   "source": [
    "def matrix_addition(matrix1, matrix2):\n",
    "    if len(matrix1) != len(matrix2) or len(matrix1[0]) != len(matrix2[0]):\n",
    "        return None  # Matrices should have the same dimensions for addition\n",
    "    result = [[matrix1[i][j] + matrix2[i][j] for j in range(len(matrix1[0]))] for i in range(len(matrix1))]\n",
    "    return result\n",
    "\n",
    "def matrix_subtraction(matrix1, matrix2):\n",
    "    if len(matrix1) != len(matrix2) or len(matrix1[0]) != len(matrix2[0]):\n",
    "        return None  # Matrices should have the same dimensions for subtraction\n",
    "    result = [[matrix1[i][j] - matrix2[i][j] for j in range(len(matrix1[0]))] for i in range(len(matrix1))]\n",
    "    return result\n",
    "\n",
    "def display_matrix(matrix):\n",
    "    for row in matrix:\n",
    "        print(row)\n",
    "\n",
    "# Input matrices from the user\n",
    "def input_matrix():\n",
    "    rows = int(input(\"Enter the number of rows: \"))\n",
    "    cols = int(input(\"Enter the number of columns: \"))\n",
    "\n",
    "    matrix = []\n",
    "    print(\"Enter the matrix elements row-wise:\")\n",
    "\n",
    "    for i in range(rows):\n",
    "        row = []\n",
    "        for j in range(cols):\n",
    "            element = float(input(f\"Enter element [{i + 1}][{j + 1}]: \"))\n",
    "            row.append(element)\n",
    "        matrix.append(row)\n",
    "\n",
    "    return matrix\n",
    "\n",
    "print(\"Matrix Addition and Subtraction Program\")\n",
    "\n",
    "print(\"\\nEnter the details for the first matrix:\")\n",
    "matrix_a = input_matrix()\n",
    "\n",
    "print(\"\\nEnter the details for the second matrix:\")\n",
    "matrix_b = input_matrix()\n",
    "\n",
    "print(\"\\nMatrix A:\")\n",
    "display_matrix(matrix_a)\n",
    "print(\"\\nMatrix B:\")\n",
    "display_matrix(matrix_b)\n",
    "\n",
    "# Perform matrix addition\n",
    "add_result = matrix_addition(matrix_a, matrix_b)\n",
    "if add_result:\n",
    "    print(\"\\nMatrix Addition (A + B):\")\n",
    "    display_matrix(add_result)\n",
    "else:\n",
    "    print(\"\\nMatrix Addition cannot be performed due to incompatible dimensions.\")\n",
    "\n",
    "# Perform matrix subtraction\n",
    "sub_result = matrix_subtraction(matrix_a, matrix_b)\n",
    "if sub_result:\n",
    "    print(\"\\nMatrix Subtraction (A - B):\")\n",
    "    display_matrix(sub_result)\n",
    "else:\n",
    "    print(\"\\nMatrix Subtraction cannot be performed due to incompatible dimensions.\")\n"
   ]
  },
  {
   "cell_type": "markdown",
   "metadata": {},
   "source": [
    "33. Write a program that calculates the greatest common divisor (GCD) of two numbers using the Euclidean algorithm."
   ]
  },
  {
   "cell_type": "code",
   "execution_count": null,
   "metadata": {},
   "outputs": [],
   "source": [
    "def gcd_euclidean(a, b):\n",
    "    while b != 0:\n",
    "        a, b = b, a % b\n",
    "    return a\n",
    "\n",
    "# Input two numbers for GCD calculation\n",
    "num1 = int(input(\"Enter first number: \"))\n",
    "num2 = int(input(\"Enter second number: \"))\n",
    "\n",
    "# Calculate and display the GCD using the Euclidean algorithm\n",
    "gcd = gcd_euclidean(num1, num2)\n",
    "print(f\"The Greatest Common Divisor (GCD) of {num1} and {num2} is: {gcd}\")\n"
   ]
  },
  {
   "cell_type": "markdown",
   "metadata": {},
   "source": [
    "34. Build a program that performs matrix multiplication using nested loops and conditional statements."
   ]
  },
  {
   "cell_type": "code",
   "execution_count": null,
   "metadata": {},
   "outputs": [],
   "source": [
    "def matrix_multiplication(matrix1, matrix2):\n",
    "    if len(matrix1[0]) != len(matrix2):\n",
    "        return None  # Matrices should have compatible dimensions for multiplication\n",
    "\n",
    "    result = [[0 for _ in range(len(matrix2[0]))] for _ in range(len(matrix1))]\n",
    "\n",
    "    for i in range(len(matrix1)):\n",
    "        for j in range(len(matrix2[0])):\n",
    "            for k in range(len(matrix2)):\n",
    "                result[i][j] += matrix1[i][k] * matrix2[k][j]\n",
    "\n",
    "    return result\n",
    "\n",
    "def display_matrix(matrix):\n",
    "    for row in matrix:\n",
    "        print(row)\n",
    "\n",
    "# Input matrices from the user\n",
    "def input_matrix():\n",
    "    rows = int(input(\"Enter the number of rows: \"))\n",
    "    cols = int(input(\"Enter the number of columns: \"))\n",
    "\n",
    "    matrix = []\n",
    "    print(\"Enter the matrix elements row-wise:\")\n",
    "\n",
    "    for i in range(rows):\n",
    "        row = []\n",
    "        for j in range(cols):\n",
    "            element = float(input(f\"Enter element [{i + 1}][{j + 1}]: \"))\n",
    "            row.append(element)\n",
    "        matrix.append(row)\n",
    "\n",
    "    return matrix\n",
    "\n",
    "print(\"Matrix Multiplication Program\")\n",
    "\n",
    "print(\"\\nEnter the details for the first matrix:\")\n",
    "matrix_a = input_matrix()\n",
    "\n",
    "print(\"\\nEnter the details for the second matrix:\")\n",
    "matrix_b = input_matrix()\n",
    "\n",
    "print(\"\\nMatrix A:\")\n",
    "display_matrix(matrix_a)\n",
    "print(\"\\nMatrix B:\")\n",
    "display_matrix(matrix_b)\n",
    "\n",
    "# Perform matrix multiplication\n",
    "mult_result = matrix_multiplication(matrix_a, matrix_b)\n",
    "if mult_result:\n",
    "    print(\"\\nMatrix Multiplication (A * B):\")\n",
    "    display_matrix(mult_result)\n",
    "else:\n",
    "    print(\"\\nMatrix Multiplication cannot be performed due to incompatible dimensions.\")\n"
   ]
  },
  {
   "cell_type": "markdown",
   "metadata": {},
   "source": [
    "35. Create a program that simulates a basic text-based tic-tac-toe game against the computer."
   ]
  },
  {
   "cell_type": "code",
   "execution_count": null,
   "metadata": {},
   "outputs": [],
   "source": [
    "import random\n",
    "\n",
    "def display_board(board):\n",
    "    print(\" \" + board[0] + \" | \" + board[1] + \" | \" + board[2])\n",
    "    print(\"-----------\")\n",
    "    print(\" \" + board[3] + \" | \" + board[4] + \" | \" + board[5])\n",
    "    print(\"-----------\")\n",
    "    print(\" \" + board[6] + \" | \" + board[7] + \" | \" + board[8])\n",
    "\n",
    "def check_winner(board, player):\n",
    "    # Check rows, columns, and diagonals for a winning combination\n",
    "    return ((board[0] == board[1] == board[2] == player) or\n",
    "            (board[3] == board[4] == board[5] == player) or\n",
    "            (board[6] == board[7] == board[8] == player) or\n",
    "            (board[0] == board[3] == board[6] == player) or\n",
    "            (board[1] == board[4] == board[7] == player) or\n",
    "            (board[2] == board[5] == board[8] == player) or\n",
    "            (board[0] == board[4] == board[8] == player) or\n",
    "            (board[2] == board[4] == board[6] == player))\n",
    "\n",
    "def is_space_free(board, move):\n",
    "    return board[move - 1] == ' '\n",
    "\n",
    "def get_player_move(board):\n",
    "    while True:\n",
    "        move = input(\"Enter your move (1-9): \")\n",
    "        if move.isdigit() and 1 <= int(move) <= 9 and is_space_free(board, int(move)):\n",
    "            return int(move)\n",
    "        else:\n",
    "            print(\"Invalid move. Please enter a number between 1 and 9.\")\n",
    "\n",
    "def get_computer_move(board):\n",
    "    while True:\n",
    "        move = random.randint(1, 9)\n",
    "        if is_space_free(board, move):\n",
    "            return move\n",
    "\n",
    "def play_game():\n",
    "    board = [' '] * 9\n",
    "    display_board(board)\n",
    "    player_symbol = 'X'\n",
    "    computer_symbol = 'O'\n",
    "\n",
    "    while True:\n",
    "        player_move = get_player_move(board)\n",
    "        board[player_move - 1] = player_symbol\n",
    "        display_board(board)\n",
    "        if check_winner(board, player_symbol):\n",
    "            print(\"Congratulations! You win!\")\n",
    "            break\n",
    "        elif ' ' not in board:\n",
    "            print(\"It's a tie!\")\n",
    "            break\n",
    "\n",
    "        computer_move = get_computer_move(board)\n",
    "        board[computer_move - 1] = computer_symbol\n",
    "        display_board(board)\n",
    "        if check_winner(board, computer_symbol):\n",
    "            print(\"Computer wins! Better luck next time.\")\n",
    "            break\n",
    "        elif ' ' not in board:\n",
    "            print(\"It's a tie!\")\n",
    "            break\n",
    "\n",
    "# Start the game\n",
    "print(\"Welcome to Tic-Tac-Toe!\")\n",
    "play_game()\n"
   ]
  },
  {
   "cell_type": "markdown",
   "metadata": {},
   "source": [
    "36. Write a program that generates Fibonacci numbers up to a specified term using iterative methods."
   ]
  },
  {
   "cell_type": "code",
   "execution_count": null,
   "metadata": {},
   "outputs": [],
   "source": [
    "def generate_fibonacci(n):\n",
    "    if n <= 0:\n",
    "        return []\n",
    "\n",
    "    fibonacci_sequence = [0, 1]\n",
    "\n",
    "    if n == 1:\n",
    "        return [0]\n",
    "    elif n == 2:\n",
    "        return fibonacci_sequence\n",
    "\n",
    "    for i in range(2, n):\n",
    "        next_number = fibonacci_sequence[i - 1] + fibonacci_sequence[i - 2]\n",
    "        fibonacci_sequence.append(next_number)\n",
    "\n",
    "    return fibonacci_sequence\n",
    "\n",
    "# Input the number of terms in the Fibonacci sequence\n",
    "terms = int(input(\"Enter the number of Fibonacci terms to generate: \"))\n",
    "\n",
    "# Generate and display the Fibonacci sequence up to the specified term\n",
    "fib_sequence = generate_fibonacci(terms)\n",
    "print(f\"The Fibonacci sequence up to term {terms} is: {fib_sequence}\")\n"
   ]
  },
  {
   "cell_type": "markdown",
   "metadata": {},
   "source": [
    "37. Develop a program that calculates the nth term of the Fibonacci sequence using memoization."
   ]
  },
  {
   "cell_type": "code",
   "execution_count": null,
   "metadata": {},
   "outputs": [],
   "source": [
    "def fibonacci(n, memo={}):\n",
    "    if n in memo:\n",
    "        return memo[n]\n",
    "    if n <= 2:\n",
    "        return 1\n",
    "\n",
    "    memo[n] = fibonacci(n - 1, memo) + fibonacci(n - 2, memo)\n",
    "    return memo[n]\n",
    "\n",
    "# Input the term of the Fibonacci sequence to calculate\n",
    "term = int(input(\"Enter the term of the Fibonacci sequence to calculate: \"))\n",
    "\n",
    "# Calculate and display the nth term of the Fibonacci sequence using memoization\n",
    "result = fibonacci(term)\n",
    "print(f\"The {term}th term of the Fibonacci sequence is: {result}\")\n"
   ]
  },
  {
   "cell_type": "markdown",
   "metadata": {},
   "source": [
    "38. Create a program that generates a calendar for a given month and year using conditional statements."
   ]
  },
  {
   "cell_type": "code",
   "execution_count": null,
   "metadata": {},
   "outputs": [],
   "source": [
    "import calendar\n",
    "\n",
    "def generate_calendar(year, month):\n",
    "    cal = calendar.monthcalendar(year, month)\n",
    "    print(calendar.month_name[month], year)\n",
    "    print(\"Mo Tu We Th Fr Sa Su\")\n",
    "\n",
    "    for week in cal:\n",
    "        week_str = ''\n",
    "        for day in week:\n",
    "            if day == 0:\n",
    "                week_str += '   '\n",
    "            else:\n",
    "                week_str += f'{day:2} '\n",
    "        print(week_str)\n",
    "\n",
    "# Input the year and month for the calendar\n",
    "year = int(input(\"Enter the year: \"))\n",
    "month = int(input(\"Enter the month (1-12): \"))\n",
    "\n",
    "# Check if the input month and year are valid\n",
    "if 1 <= month <= 12:\n",
    "    generate_calendar(year, month)\n",
    "else:\n",
    "    print(\"Invalid month input. Please enter a month between 1 and 12.\")\n"
   ]
  },
  {
   "cell_type": "markdown",
   "metadata": {},
   "source": [
    "39. Build a program that simulates a basic text-based blackjack game against the computer."
   ]
  },
  {
   "cell_type": "code",
   "execution_count": null,
   "metadata": {},
   "outputs": [],
   "source": [
    "import random\n",
    "\n",
    "def deal_card():\n",
    "    \"\"\"Return a random card from the deck.\"\"\"\n",
    "    cards = [2, 3, 4, 5, 6, 7, 8, 9, 10, 10, 10, 10, 11] * 4  # Using 11 for Ace\n",
    "    return random.choice(cards)\n",
    "\n",
    "def calculate_score(cards):\n",
    "    \"\"\"Calculate the total value of a hand.\"\"\"\n",
    "    if sum(cards) == 21 and len(cards) == 2:\n",
    "        return 0  # Blackjack\n",
    "    if 11 in cards and sum(cards) > 21:\n",
    "        cards.remove(11)\n",
    "        cards.append(1)\n",
    "    return sum(cards)\n",
    "\n",
    "def compare(user_score, computer_score):\n",
    "    \"\"\"Compare user and computer scores.\"\"\"\n",
    "    if user_score > 21 and computer_score > 21:\n",
    "        return \"You went over. You lose!\"\n",
    "    if user_score == computer_score:\n",
    "        return \"It's a draw!\"\n",
    "    elif computer_score == 0:\n",
    "        return \"Computer has Blackjack. You lose!\"\n",
    "    elif user_score == 0:\n",
    "        return \"You have Blackjack! You win!\"\n",
    "    elif user_score > 21:\n",
    "        return \"You went over. You lose!\"\n",
    "    elif computer_score > 21:\n",
    "        return \"Computer went over. You win!\"\n",
    "    elif user_score > computer_score:\n",
    "        return \"You win!\"\n",
    "    else:\n",
    "        return \"You lose!\"\n",
    "\n",
    "def play_blackjack():\n",
    "    user_cards = []\n",
    "    computer_cards = []\n",
    "    game_over = False\n",
    "\n",
    "    for _ in range(2):\n",
    "        user_cards.append(deal_card())\n",
    "        computer_cards.append(deal_card())\n",
    "\n",
    "    while not game_over:\n",
    "        user_score = calculate_score(user_cards)\n",
    "        computer_score = calculate_score(computer_cards)\n",
    "\n",
    "        print(f\"Your cards: {user_cards}, current score: {user_score}\")\n",
    "        print(f\"Computer's first card: {computer_cards[0]}\")\n",
    "\n",
    "        if user_score == 0 or computer_score == 0 or user_score > 21:\n",
    "            game_over = True\n",
    "        else:\n",
    "            user_choice = input(\"Type 'y' to get another card, or 'n' to pass: \")\n",
    "            if user_choice == 'y':\n",
    "                user_cards.append(deal_card())\n",
    "            else:\n",
    "                game_over = True\n",
    "\n",
    "    while computer_score != 0 and computer_score < 17:\n",
    "        computer_cards.append(deal_card())\n",
    "        computer_score = calculate_score(computer_cards)\n",
    "\n",
    "    print(f\"Your final hand: {user_cards}, final score: {user_score}\")\n",
    "    print(f\"Computer's final hand: {computer_cards}, final score: {computer_score}\")\n",
    "    print(compare(user_score, computer_score))\n",
    "\n",
    "# Start the game\n",
    "print(\"Welcome to Blackjack!\")\n",
    "play_blackjack()\n"
   ]
  },
  {
   "cell_type": "markdown",
   "metadata": {},
   "source": [
    "40. Write a program that generates the prime factors of a given number using trial division."
   ]
  },
  {
   "cell_type": "code",
   "execution_count": 40,
   "metadata": {},
   "outputs": [
    {
     "name": "stdout",
     "output_type": "stream",
     "text": [
      "Enter a number to find its prime factors: 234\n",
      "The prime factors of 234 are: [2, 3, 3, 13]\n"
     ]
    }
   ],
   "source": [
    "def prime_factors(n):\n",
    "    factors = []\n",
    "    divisor = 2\n",
    "\n",
    "    while n > 1:\n",
    "        while n % divisor == 0:\n",
    "            factors.append(divisor)\n",
    "            n //= divisor\n",
    "        divisor += 1\n",
    "\n",
    "    return factors\n",
    "\n",
    "# Input the number to find its prime factors\n",
    "number = int(input(\"Enter a number to find its prime factors: \"))\n",
    "\n",
    "if number > 1:\n",
    "    factors = prime_factors(number)\n",
    "    print(f\"The prime factors of {number} are: {factors}\")\n",
    "else:\n",
    "    print(\"The number should be greater than 1.\")\n"
   ]
  }
 ],
 "metadata": {
  "kernelspec": {
   "display_name": "Python 3",
   "language": "python",
   "name": "python3"
  },
  "language_info": {
   "codemirror_mode": {
    "name": "ipython",
    "version": 3
   },
   "file_extension": ".py",
   "mimetype": "text/x-python",
   "name": "python",
   "nbconvert_exporter": "python",
   "pygments_lexer": "ipython3",
   "version": "3.7.6"
  }
 },
 "nbformat": 4,
 "nbformat_minor": 4
}
