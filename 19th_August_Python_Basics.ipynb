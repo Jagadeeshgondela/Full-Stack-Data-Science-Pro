{
 "cells": [
  {
   "cell_type": "markdown",
   "id": "49729dd7-9b7b-4cae-bf26-f11f3698e822",
   "metadata": {},
   "source": [
    "1. Declare two variables, `x` and `y`, and assign them integer values. Swap the\n",
    "values of these variables without using any temporary variable."
   ]
  },
  {
   "cell_type": "code",
   "execution_count": 7,
   "id": "f30e4e5b-04ca-41d4-a298-be24a903c607",
   "metadata": {},
   "outputs": [
    {
     "data": {
      "text/plain": [
       "(6, 3)"
      ]
     },
     "execution_count": 7,
     "metadata": {},
     "output_type": "execute_result"
    }
   ],
   "source": [
    "x,y=3,6\n",
    "x,y=y,x #swapping\n",
    "x,y "
   ]
  },
  {
   "cell_type": "markdown",
   "id": "3da03f3f-c1fa-4d07-a1c2-f2a45b785964",
   "metadata": {},
   "source": [
    "2. Create a program that calculates the area of a rectangle. Take the length and\n",
    "width as inputs from the user and store them in variables. Calculate and\n",
    "display the area."
   ]
  },
  {
   "cell_type": "code",
   "execution_count": 11,
   "id": "f46e37bf-5200-48e8-81a5-229e13a9873e",
   "metadata": {},
   "outputs": [
    {
     "name": "stdin",
     "output_type": "stream",
     "text": [
      "length :  6\n",
      "width :  7.3\n"
     ]
    },
    {
     "name": "stdout",
     "output_type": "stream",
     "text": [
      "Area :  43.8\n"
     ]
    }
   ],
   "source": [
    "l=float(input('length : '))\n",
    "w=float(input('width : '))\n",
    "area=l*w #calculating area of the rectangle\n",
    "print('Area : ',area)"
   ]
  },
  {
   "cell_type": "markdown",
   "id": "85b2b410-20a8-4e75-ad9e-a22bbc51ac7e",
   "metadata": {},
   "source": [
    "3. Write a Python program that converts temperatures from Celsius to\n",
    "Fahrenheit. Take the temperature in Celsius as input, store it in a variable,\n",
    "convert it to Fahrenheit, and display the result."
   ]
  },
  {
   "cell_type": "code",
   "execution_count": 29,
   "id": "eb4553c8-80db-4872-94a7-270ad40c456a",
   "metadata": {},
   "outputs": [
    {
     "name": "stdin",
     "output_type": "stream",
     "text": [
      "Temparature in °C :  21\n"
     ]
    },
    {
     "name": "stdout",
     "output_type": "stream",
     "text": [
      "Temparature in °F :  69.8\n"
     ]
    }
   ],
   "source": [
    "Tc=float(input('Temparature in °C : '))\n",
    "Tf=(Tc*9/5)+32 # converting temparature from °C to °F\n",
    "print('Temparature in °F : ',Tf)"
   ]
  },
  {
   "cell_type": "markdown",
   "id": "22c5f012-8e22-4c3a-a974-f5f24b273c7a",
   "metadata": {},
   "source": [
    "TOPIC: String Based Questions"
   ]
  },
  {
   "cell_type": "markdown",
   "id": "0746306f-f49f-44d4-91cb-7951a0597781",
   "metadata": {},
   "source": [
    "1. Write a Python program that takes a string as input and prints the length of\n",
    "the string."
   ]
  },
  {
   "cell_type": "code",
   "execution_count": 18,
   "id": "4c8df337-bb33-4efe-94c5-08953ce5b25b",
   "metadata": {},
   "outputs": [
    {
     "name": "stdin",
     "output_type": "stream",
     "text": [
      "Enter string :  Frist Assignment\n"
     ]
    },
    {
     "name": "stdout",
     "output_type": "stream",
     "text": [
      "Length of string :  16\n"
     ]
    }
   ],
   "source": [
    "l=input('Enter string : ')\n",
    "print('Length of string : ',len(l))"
   ]
  },
  {
   "cell_type": "markdown",
   "id": "080b66d4-dede-4e84-9953-ad24c13204bd",
   "metadata": {},
   "source": [
    "2. Create a program that takes a sentence from the user and counts the number\n",
    "of vowels (a, e, i, o, u) in the string."
   ]
  },
  {
   "cell_type": "code",
   "execution_count": 19,
   "id": "be761804-8fc8-48c7-a2a4-517467ba6d66",
   "metadata": {},
   "outputs": [
    {
     "name": "stdin",
     "output_type": "stream",
     "text": [
      " let's check the count of vowels in this sentence\n"
     ]
    },
    {
     "name": "stdout",
     "output_type": "stream",
     "text": [
      "vowel count :  13\n"
     ]
    }
   ],
   "source": [
    "sentence=input()\n",
    "vowel_count = sum(sentence.count(vowel) for vowel in \"aeiou\") #counting vowels in given sentence\n",
    "print('vowel count : ',vowel_count)"
   ]
  },
  {
   "cell_type": "markdown",
   "id": "0ed7b3cf-2e35-47ad-bdd4-86930d3101ac",
   "metadata": {},
   "source": [
    "3. Given a string, reverse the order of characters using string slicing and print\n",
    "the reversed string."
   ]
  },
  {
   "cell_type": "code",
   "execution_count": 20,
   "id": "6400ea5c-670b-46ad-8343-02be59a09dbc",
   "metadata": {},
   "outputs": [
    {
     "data": {
      "text/plain": [
       "'gnirts'"
      ]
     },
     "execution_count": 20,
     "metadata": {},
     "output_type": "execute_result"
    }
   ],
   "source": [
    "s='string'\n",
    "s[::-1] #reversing the string"
   ]
  },
  {
   "cell_type": "markdown",
   "id": "dd8eec4e-3917-43ff-b2b7-7f70e50a38e2",
   "metadata": {},
   "source": [
    "4. Write a program that takes a string as input and checks if it is a palindrome\n",
    "(reads the same forwards and backwards)."
   ]
  },
  {
   "cell_type": "code",
   "execution_count": 28,
   "id": "d9b1cdbb-e112-4502-82bb-25c6f7611a22",
   "metadata": {},
   "outputs": [
    {
     "name": "stdin",
     "output_type": "stream",
     "text": [
      "Entyer any string :  abcdcba\n"
     ]
    },
    {
     "name": "stdout",
     "output_type": "stream",
     "text": [
      "is palindrome :  True\n"
     ]
    }
   ],
   "source": [
    "s=input('Entyer any string : ') # Taking input as string\n",
    "if s==s[::-1]: #checking for palindrome\n",
    "    print('is palindrome : ',True)\n",
    "else:\n",
    "    print('is palindrome : ',False)"
   ]
  },
  {
   "cell_type": "markdown",
   "id": "400a2075-8aca-43cd-a569-26b2b3001255",
   "metadata": {},
   "source": [
    "5. Create a program that takes a string as input and removes all the spaces from\n",
    "it. Print the modified string without spaces."
   ]
  },
  {
   "cell_type": "code",
   "execution_count": 27,
   "id": "82485793-9c5b-4d82-9428-66b9056ca466",
   "metadata": {},
   "outputs": [
    {
     "name": "stdin",
     "output_type": "stream",
     "text": [
      "   j a  gad     ees h\n"
     ]
    },
    {
     "name": "stdout",
     "output_type": "stream",
     "text": [
      "string without spaces :  jagadeesh\n"
     ]
    }
   ],
   "source": [
    "s=input()\n",
    "print('string without spaces : ',s.replace(' ','')) #replacing space with no space"
   ]
  }
 ],
 "metadata": {
  "kernelspec": {
   "display_name": "Python 3 (ipykernel)",
   "language": "python",
   "name": "python3"
  },
  "language_info": {
   "codemirror_mode": {
    "name": "ipython",
    "version": 3
   },
   "file_extension": ".py",
   "mimetype": "text/x-python",
   "name": "python",
   "nbconvert_exporter": "python",
   "pygments_lexer": "ipython3",
   "version": "3.10.8"
  }
 },
 "nbformat": 4,
 "nbformat_minor": 5
}
